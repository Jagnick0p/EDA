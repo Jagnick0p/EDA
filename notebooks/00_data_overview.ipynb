{
 "cells": [
  {
   "cell_type": "code",
   "id": "initial_id",
   "metadata": {
    "collapsed": true,
    "ExecuteTime": {
     "end_time": "2025-09-02T16:39:13.234020Z",
     "start_time": "2025-09-02T16:39:10.422772Z"
    }
   },
   "source": [
    "import os\n",
    "import pandas as pd\n",
    "import numpy as np\n",
    "from pathlib import Path\n",
    "\n",
    "from Scripts.pywin32_testall import project_root"
   ],
   "outputs": [],
   "execution_count": 2
  },
  {
   "metadata": {
    "ExecuteTime": {
     "end_time": "2025-09-02T16:39:13.249959Z",
     "start_time": "2025-09-02T16:39:13.241927Z"
    }
   },
   "cell_type": "code",
   "source": [
    "pd.set_option(\"display.max_columns\", 100)\n",
    "pd.set_option(\"display.width\", 120)"
   ],
   "id": "b0438f7179288152",
   "outputs": [],
   "execution_count": 3
  },
  {
   "metadata": {
    "ExecuteTime": {
     "end_time": "2025-09-02T16:39:13.265959Z",
     "start_time": "2025-09-02T16:39:13.256930Z"
    }
   },
   "cell_type": "code",
   "source": "Root_dir = Path.cwd().parent",
   "id": "896dd2e79834753d",
   "outputs": [],
   "execution_count": 4
  },
  {
   "metadata": {
    "ExecuteTime": {
     "end_time": "2025-09-02T16:39:13.281958Z",
     "start_time": "2025-09-02T16:39:13.272932Z"
    }
   },
   "cell_type": "code",
   "source": [
    "data_dir = Path(Root_dir.joinpath('data/raw/tlc/yellow/2023'))\n",
    "zone_path = Path(Root_dir.joinpath('data/raw/tlc/misc/taxi_zone_lookup.csv'))"
   ],
   "id": "5180974723c7cfc1",
   "outputs": [],
   "execution_count": 5
  },
  {
   "metadata": {
    "ExecuteTime": {
     "end_time": "2025-09-02T16:39:13.297964Z",
     "start_time": "2025-09-02T16:39:13.288959Z"
    }
   },
   "cell_type": "code",
   "source": "file_1 = Path(data_dir.joinpath('yellow_tripdata_2023-01.parquet'))",
   "id": "b8faa8b5cfbcc1a0",
   "outputs": [],
   "execution_count": 6
  },
  {
   "metadata": {
    "ExecuteTime": {
     "end_time": "2025-09-02T16:39:14.262628Z",
     "start_time": "2025-09-02T16:39:13.313929Z"
    }
   },
   "cell_type": "code",
   "source": [
    "df = pd.read_parquet(file_1)\n",
    "print(df.shape)\n",
    "df.head()"
   ],
   "id": "ecc4784de711074a",
   "outputs": [
    {
     "name": "stdout",
     "output_type": "stream",
     "text": [
      "(3066766, 19)\n"
     ]
    },
    {
     "data": {
      "text/plain": [
       "   VendorID tpep_pickup_datetime tpep_dropoff_datetime  passenger_count  trip_distance  RatecodeID store_and_fwd_flag  \\\n",
       "0         2  2023-01-01 00:32:10   2023-01-01 00:40:36              1.0           0.97         1.0                  N   \n",
       "1         2  2023-01-01 00:55:08   2023-01-01 01:01:27              1.0           1.10         1.0                  N   \n",
       "2         2  2023-01-01 00:25:04   2023-01-01 00:37:49              1.0           2.51         1.0                  N   \n",
       "3         1  2023-01-01 00:03:48   2023-01-01 00:13:25              0.0           1.90         1.0                  N   \n",
       "4         2  2023-01-01 00:10:29   2023-01-01 00:21:19              1.0           1.43         1.0                  N   \n",
       "\n",
       "   PULocationID  DOLocationID  payment_type  fare_amount  extra  mta_tax  tip_amount  tolls_amount  \\\n",
       "0           161           141             2          9.3   1.00      0.5        0.00           0.0   \n",
       "1            43           237             1          7.9   1.00      0.5        4.00           0.0   \n",
       "2            48           238             1         14.9   1.00      0.5       15.00           0.0   \n",
       "3           138             7             1         12.1   7.25      0.5        0.00           0.0   \n",
       "4           107            79             1         11.4   1.00      0.5        3.28           0.0   \n",
       "\n",
       "   improvement_surcharge  total_amount  congestion_surcharge  airport_fee  \n",
       "0                    1.0         14.30                   2.5         0.00  \n",
       "1                    1.0         16.90                   2.5         0.00  \n",
       "2                    1.0         34.90                   2.5         0.00  \n",
       "3                    1.0         20.85                   0.0         1.25  \n",
       "4                    1.0         19.68                   2.5         0.00  "
      ],
      "text/html": [
       "<div>\n",
       "<style scoped>\n",
       "    .dataframe tbody tr th:only-of-type {\n",
       "        vertical-align: middle;\n",
       "    }\n",
       "\n",
       "    .dataframe tbody tr th {\n",
       "        vertical-align: top;\n",
       "    }\n",
       "\n",
       "    .dataframe thead th {\n",
       "        text-align: right;\n",
       "    }\n",
       "</style>\n",
       "<table border=\"1\" class=\"dataframe\">\n",
       "  <thead>\n",
       "    <tr style=\"text-align: right;\">\n",
       "      <th></th>\n",
       "      <th>VendorID</th>\n",
       "      <th>tpep_pickup_datetime</th>\n",
       "      <th>tpep_dropoff_datetime</th>\n",
       "      <th>passenger_count</th>\n",
       "      <th>trip_distance</th>\n",
       "      <th>RatecodeID</th>\n",
       "      <th>store_and_fwd_flag</th>\n",
       "      <th>PULocationID</th>\n",
       "      <th>DOLocationID</th>\n",
       "      <th>payment_type</th>\n",
       "      <th>fare_amount</th>\n",
       "      <th>extra</th>\n",
       "      <th>mta_tax</th>\n",
       "      <th>tip_amount</th>\n",
       "      <th>tolls_amount</th>\n",
       "      <th>improvement_surcharge</th>\n",
       "      <th>total_amount</th>\n",
       "      <th>congestion_surcharge</th>\n",
       "      <th>airport_fee</th>\n",
       "    </tr>\n",
       "  </thead>\n",
       "  <tbody>\n",
       "    <tr>\n",
       "      <th>0</th>\n",
       "      <td>2</td>\n",
       "      <td>2023-01-01 00:32:10</td>\n",
       "      <td>2023-01-01 00:40:36</td>\n",
       "      <td>1.0</td>\n",
       "      <td>0.97</td>\n",
       "      <td>1.0</td>\n",
       "      <td>N</td>\n",
       "      <td>161</td>\n",
       "      <td>141</td>\n",
       "      <td>2</td>\n",
       "      <td>9.3</td>\n",
       "      <td>1.00</td>\n",
       "      <td>0.5</td>\n",
       "      <td>0.00</td>\n",
       "      <td>0.0</td>\n",
       "      <td>1.0</td>\n",
       "      <td>14.30</td>\n",
       "      <td>2.5</td>\n",
       "      <td>0.00</td>\n",
       "    </tr>\n",
       "    <tr>\n",
       "      <th>1</th>\n",
       "      <td>2</td>\n",
       "      <td>2023-01-01 00:55:08</td>\n",
       "      <td>2023-01-01 01:01:27</td>\n",
       "      <td>1.0</td>\n",
       "      <td>1.10</td>\n",
       "      <td>1.0</td>\n",
       "      <td>N</td>\n",
       "      <td>43</td>\n",
       "      <td>237</td>\n",
       "      <td>1</td>\n",
       "      <td>7.9</td>\n",
       "      <td>1.00</td>\n",
       "      <td>0.5</td>\n",
       "      <td>4.00</td>\n",
       "      <td>0.0</td>\n",
       "      <td>1.0</td>\n",
       "      <td>16.90</td>\n",
       "      <td>2.5</td>\n",
       "      <td>0.00</td>\n",
       "    </tr>\n",
       "    <tr>\n",
       "      <th>2</th>\n",
       "      <td>2</td>\n",
       "      <td>2023-01-01 00:25:04</td>\n",
       "      <td>2023-01-01 00:37:49</td>\n",
       "      <td>1.0</td>\n",
       "      <td>2.51</td>\n",
       "      <td>1.0</td>\n",
       "      <td>N</td>\n",
       "      <td>48</td>\n",
       "      <td>238</td>\n",
       "      <td>1</td>\n",
       "      <td>14.9</td>\n",
       "      <td>1.00</td>\n",
       "      <td>0.5</td>\n",
       "      <td>15.00</td>\n",
       "      <td>0.0</td>\n",
       "      <td>1.0</td>\n",
       "      <td>34.90</td>\n",
       "      <td>2.5</td>\n",
       "      <td>0.00</td>\n",
       "    </tr>\n",
       "    <tr>\n",
       "      <th>3</th>\n",
       "      <td>1</td>\n",
       "      <td>2023-01-01 00:03:48</td>\n",
       "      <td>2023-01-01 00:13:25</td>\n",
       "      <td>0.0</td>\n",
       "      <td>1.90</td>\n",
       "      <td>1.0</td>\n",
       "      <td>N</td>\n",
       "      <td>138</td>\n",
       "      <td>7</td>\n",
       "      <td>1</td>\n",
       "      <td>12.1</td>\n",
       "      <td>7.25</td>\n",
       "      <td>0.5</td>\n",
       "      <td>0.00</td>\n",
       "      <td>0.0</td>\n",
       "      <td>1.0</td>\n",
       "      <td>20.85</td>\n",
       "      <td>0.0</td>\n",
       "      <td>1.25</td>\n",
       "    </tr>\n",
       "    <tr>\n",
       "      <th>4</th>\n",
       "      <td>2</td>\n",
       "      <td>2023-01-01 00:10:29</td>\n",
       "      <td>2023-01-01 00:21:19</td>\n",
       "      <td>1.0</td>\n",
       "      <td>1.43</td>\n",
       "      <td>1.0</td>\n",
       "      <td>N</td>\n",
       "      <td>107</td>\n",
       "      <td>79</td>\n",
       "      <td>1</td>\n",
       "      <td>11.4</td>\n",
       "      <td>1.00</td>\n",
       "      <td>0.5</td>\n",
       "      <td>3.28</td>\n",
       "      <td>0.0</td>\n",
       "      <td>1.0</td>\n",
       "      <td>19.68</td>\n",
       "      <td>2.5</td>\n",
       "      <td>0.00</td>\n",
       "    </tr>\n",
       "  </tbody>\n",
       "</table>\n",
       "</div>"
      ]
     },
     "execution_count": 7,
     "metadata": {},
     "output_type": "execute_result"
    }
   ],
   "execution_count": 7
  },
  {
   "metadata": {
    "ExecuteTime": {
     "end_time": "2025-09-02T16:39:14.531588Z",
     "start_time": "2025-09-02T16:39:14.523589Z"
    }
   },
   "cell_type": "code",
   "source": "df.dtypes",
   "id": "f928ec7e7c3fe78",
   "outputs": [
    {
     "data": {
      "text/plain": [
       "VendorID                          int64\n",
       "tpep_pickup_datetime     datetime64[us]\n",
       "tpep_dropoff_datetime    datetime64[us]\n",
       "passenger_count                 float64\n",
       "trip_distance                   float64\n",
       "RatecodeID                      float64\n",
       "store_and_fwd_flag               object\n",
       "PULocationID                      int64\n",
       "DOLocationID                      int64\n",
       "payment_type                      int64\n",
       "fare_amount                     float64\n",
       "extra                           float64\n",
       "mta_tax                         float64\n",
       "tip_amount                      float64\n",
       "tolls_amount                    float64\n",
       "improvement_surcharge           float64\n",
       "total_amount                    float64\n",
       "congestion_surcharge            float64\n",
       "airport_fee                     float64\n",
       "dtype: object"
      ]
     },
     "execution_count": 8,
     "metadata": {},
     "output_type": "execute_result"
    }
   ],
   "execution_count": 8
  },
  {
   "metadata": {
    "ExecuteTime": {
     "end_time": "2025-09-02T16:39:15.280586Z",
     "start_time": "2025-09-02T16:39:14.808587Z"
    }
   },
   "cell_type": "code",
   "source": [
    "size_in_bytes = df.memory_usage(deep=True,index=False).sum()\n",
    "size_in_mb = size_in_bytes / (1024**2)\n",
    "size_in_gb = size_in_bytes / (1024**3)\n",
    "print(f'{size_in_mb:.3f} MB, {size_in_gb:.3f} GB')"
   ],
   "id": "ba0e8904bc5a5db5",
   "outputs": [
    {
     "name": "stdout",
     "output_type": "stream",
     "text": [
      "588.462 MB, 0.575 GB\n"
     ]
    }
   ],
   "execution_count": 9
  },
  {
   "metadata": {
    "ExecuteTime": {
     "end_time": "2025-09-02T16:39:15.849863Z",
     "start_time": "2025-09-02T16:39:15.349591Z"
    }
   },
   "cell_type": "code",
   "source": "df.memory_usage(deep=True,index=False).groupby(df.dtypes.astype(str)).sum().sort_values(ascending=True)",
   "id": "61158da9b02d56e0",
   "outputs": [
    {
     "data": {
      "text/plain": [
       "datetime64[us]     49068256\n",
       "int64              98136512\n",
       "object            175433166\n",
       "float64           294409536\n",
       "dtype: int64"
      ]
     },
     "execution_count": 10,
     "metadata": {},
     "output_type": "execute_result"
    }
   ],
   "execution_count": 10
  },
  {
   "metadata": {
    "ExecuteTime": {
     "end_time": "2025-09-02T16:39:16.389291Z",
     "start_time": "2025-09-02T16:39:15.917182Z"
    }
   },
   "cell_type": "code",
   "source": "Top_10 = df.memory_usage(deep=True,index=False).sort_values(ascending=False).head(10).to_dict()",
   "id": "c3f28b9abb3a8c4e",
   "outputs": [],
   "execution_count": 11
  },
  {
   "metadata": {
    "ExecuteTime": {
     "end_time": "2025-09-02T16:39:16.450226Z",
     "start_time": "2025-09-02T16:39:16.441229Z"
    }
   },
   "cell_type": "code",
   "source": "Top_10",
   "id": "afca287d511fdfba",
   "outputs": [
    {
     "data": {
      "text/plain": [
       "{'store_and_fwd_flag': 175433166,\n",
       " 'tpep_pickup_datetime': 24534128,\n",
       " 'VendorID': 24534128,\n",
       " 'tpep_dropoff_datetime': 24534128,\n",
       " 'passenger_count': 24534128,\n",
       " 'trip_distance': 24534128,\n",
       " 'RatecodeID': 24534128,\n",
       " 'PULocationID': 24534128,\n",
       " 'DOLocationID': 24534128,\n",
       " 'payment_type': 24534128}"
      ]
     },
     "execution_count": 12,
     "metadata": {},
     "output_type": "execute_result"
    }
   ],
   "execution_count": 12
  },
  {
   "metadata": {
    "ExecuteTime": {
     "end_time": "2025-09-02T16:39:16.514262Z",
     "start_time": "2025-09-02T16:39:16.509228Z"
    }
   },
   "cell_type": "code",
   "source": [
    "memory_percentage_column = {}\n",
    "for key, value in Top_10.items():\n",
    "    memory_percentage_column[key] = (value / size_in_bytes * 100)"
   ],
   "id": "b6be08144cc90591",
   "outputs": [],
   "execution_count": 13
  },
  {
   "metadata": {
    "ExecuteTime": {
     "end_time": "2025-09-02T16:39:17.022289Z",
     "start_time": "2025-09-02T16:39:16.542259Z"
    }
   },
   "cell_type": "code",
   "source": [
    "avg_memory_row = {}\n",
    "for key, value in df.memory_usage(deep=True,index=False).sort_values(ascending=False).to_dict().items():\n",
    "    avg_memory_row[key] = value/df.shape[0]"
   ],
   "id": "83ad31faf1624149",
   "outputs": [],
   "execution_count": 14
  },
  {
   "metadata": {
    "ExecuteTime": {
     "end_time": "2025-09-02T16:39:17.038226Z",
     "start_time": "2025-09-02T16:39:17.030228Z"
    }
   },
   "cell_type": "code",
   "source": "avg_memory_row",
   "id": "4fe04bd0d342cdd3",
   "outputs": [
    {
     "data": {
      "text/plain": [
       "{'store_and_fwd_flag': 57.20461424184304,\n",
       " 'tpep_pickup_datetime': 8.0,\n",
       " 'VendorID': 8.0,\n",
       " 'tpep_dropoff_datetime': 8.0,\n",
       " 'passenger_count': 8.0,\n",
       " 'trip_distance': 8.0,\n",
       " 'RatecodeID': 8.0,\n",
       " 'PULocationID': 8.0,\n",
       " 'DOLocationID': 8.0,\n",
       " 'payment_type': 8.0,\n",
       " 'fare_amount': 8.0,\n",
       " 'extra': 8.0,\n",
       " 'mta_tax': 8.0,\n",
       " 'tip_amount': 8.0,\n",
       " 'tolls_amount': 8.0,\n",
       " 'improvement_surcharge': 8.0,\n",
       " 'total_amount': 8.0,\n",
       " 'congestion_surcharge': 8.0,\n",
       " 'airport_fee': 8.0}"
      ]
     },
     "execution_count": 15,
     "metadata": {},
     "output_type": "execute_result"
    }
   ],
   "execution_count": 15
  },
  {
   "metadata": {
    "ExecuteTime": {
     "end_time": "2025-09-02T16:39:17.181261Z",
     "start_time": "2025-09-02T16:39:17.053227Z"
    }
   },
   "cell_type": "code",
   "source": [
    "row_na = df.isna().any(axis=1)\n",
    "frac_row_na = row_na.mean()"
   ],
   "id": "a6dd025708ac3c8c",
   "outputs": [],
   "execution_count": 16
  },
  {
   "metadata": {
    "ExecuteTime": {
     "end_time": "2025-09-02T16:39:17.197315Z",
     "start_time": "2025-09-02T16:39:17.187259Z"
    }
   },
   "cell_type": "code",
   "source": "percentage_na = round(frac_row_na*100, 1)",
   "id": "5e6edeaf20cfed61",
   "outputs": [],
   "execution_count": 17
  },
  {
   "metadata": {
    "ExecuteTime": {
     "end_time": "2025-09-02T16:39:17.245226Z",
     "start_time": "2025-09-02T16:39:17.210232Z"
    }
   },
   "cell_type": "code",
   "source": "df",
   "id": "f9a4384143c91fbb",
   "outputs": [
    {
     "data": {
      "text/plain": [
       "         VendorID tpep_pickup_datetime tpep_dropoff_datetime  passenger_count  trip_distance  RatecodeID  \\\n",
       "0               2  2023-01-01 00:32:10   2023-01-01 00:40:36              1.0           0.97         1.0   \n",
       "1               2  2023-01-01 00:55:08   2023-01-01 01:01:27              1.0           1.10         1.0   \n",
       "2               2  2023-01-01 00:25:04   2023-01-01 00:37:49              1.0           2.51         1.0   \n",
       "3               1  2023-01-01 00:03:48   2023-01-01 00:13:25              0.0           1.90         1.0   \n",
       "4               2  2023-01-01 00:10:29   2023-01-01 00:21:19              1.0           1.43         1.0   \n",
       "...           ...                  ...                   ...              ...            ...         ...   \n",
       "3066761         2  2023-01-31 23:58:34   2023-02-01 00:12:33              NaN           3.05         NaN   \n",
       "3066762         2  2023-01-31 23:31:09   2023-01-31 23:50:36              NaN           5.80         NaN   \n",
       "3066763         2  2023-01-31 23:01:05   2023-01-31 23:25:36              NaN           4.67         NaN   \n",
       "3066764         2  2023-01-31 23:40:00   2023-01-31 23:53:00              NaN           3.15         NaN   \n",
       "3066765         2  2023-01-31 23:07:32   2023-01-31 23:21:56              NaN           2.85         NaN   \n",
       "\n",
       "        store_and_fwd_flag  PULocationID  DOLocationID  payment_type  fare_amount  extra  mta_tax  tip_amount  \\\n",
       "0                        N           161           141             2         9.30   1.00      0.5        0.00   \n",
       "1                        N            43           237             1         7.90   1.00      0.5        4.00   \n",
       "2                        N            48           238             1        14.90   1.00      0.5       15.00   \n",
       "3                        N           138             7             1        12.10   7.25      0.5        0.00   \n",
       "4                        N           107            79             1        11.40   1.00      0.5        3.28   \n",
       "...                    ...           ...           ...           ...          ...    ...      ...         ...   \n",
       "3066761               None           107            48             0        15.80   0.00      0.5        3.96   \n",
       "3066762               None           112            75             0        22.43   0.00      0.5        2.64   \n",
       "3066763               None           114           239             0        17.61   0.00      0.5        5.32   \n",
       "3066764               None           230            79             0        18.15   0.00      0.5        4.43   \n",
       "3066765               None           262           143             0        15.97   0.00      0.5        2.00   \n",
       "\n",
       "         tolls_amount  improvement_surcharge  total_amount  congestion_surcharge  airport_fee  \n",
       "0                 0.0                    1.0         14.30                   2.5         0.00  \n",
       "1                 0.0                    1.0         16.90                   2.5         0.00  \n",
       "2                 0.0                    1.0         34.90                   2.5         0.00  \n",
       "3                 0.0                    1.0         20.85                   0.0         1.25  \n",
       "4                 0.0                    1.0         19.68                   2.5         0.00  \n",
       "...               ...                    ...           ...                   ...          ...  \n",
       "3066761           0.0                    1.0         23.76                   NaN          NaN  \n",
       "3066762           0.0                    1.0         29.07                   NaN          NaN  \n",
       "3066763           0.0                    1.0         26.93                   NaN          NaN  \n",
       "3066764           0.0                    1.0         26.58                   NaN          NaN  \n",
       "3066765           0.0                    1.0         21.97                   NaN          NaN  \n",
       "\n",
       "[3066766 rows x 19 columns]"
      ],
      "text/html": [
       "<div>\n",
       "<style scoped>\n",
       "    .dataframe tbody tr th:only-of-type {\n",
       "        vertical-align: middle;\n",
       "    }\n",
       "\n",
       "    .dataframe tbody tr th {\n",
       "        vertical-align: top;\n",
       "    }\n",
       "\n",
       "    .dataframe thead th {\n",
       "        text-align: right;\n",
       "    }\n",
       "</style>\n",
       "<table border=\"1\" class=\"dataframe\">\n",
       "  <thead>\n",
       "    <tr style=\"text-align: right;\">\n",
       "      <th></th>\n",
       "      <th>VendorID</th>\n",
       "      <th>tpep_pickup_datetime</th>\n",
       "      <th>tpep_dropoff_datetime</th>\n",
       "      <th>passenger_count</th>\n",
       "      <th>trip_distance</th>\n",
       "      <th>RatecodeID</th>\n",
       "      <th>store_and_fwd_flag</th>\n",
       "      <th>PULocationID</th>\n",
       "      <th>DOLocationID</th>\n",
       "      <th>payment_type</th>\n",
       "      <th>fare_amount</th>\n",
       "      <th>extra</th>\n",
       "      <th>mta_tax</th>\n",
       "      <th>tip_amount</th>\n",
       "      <th>tolls_amount</th>\n",
       "      <th>improvement_surcharge</th>\n",
       "      <th>total_amount</th>\n",
       "      <th>congestion_surcharge</th>\n",
       "      <th>airport_fee</th>\n",
       "    </tr>\n",
       "  </thead>\n",
       "  <tbody>\n",
       "    <tr>\n",
       "      <th>0</th>\n",
       "      <td>2</td>\n",
       "      <td>2023-01-01 00:32:10</td>\n",
       "      <td>2023-01-01 00:40:36</td>\n",
       "      <td>1.0</td>\n",
       "      <td>0.97</td>\n",
       "      <td>1.0</td>\n",
       "      <td>N</td>\n",
       "      <td>161</td>\n",
       "      <td>141</td>\n",
       "      <td>2</td>\n",
       "      <td>9.30</td>\n",
       "      <td>1.00</td>\n",
       "      <td>0.5</td>\n",
       "      <td>0.00</td>\n",
       "      <td>0.0</td>\n",
       "      <td>1.0</td>\n",
       "      <td>14.30</td>\n",
       "      <td>2.5</td>\n",
       "      <td>0.00</td>\n",
       "    </tr>\n",
       "    <tr>\n",
       "      <th>1</th>\n",
       "      <td>2</td>\n",
       "      <td>2023-01-01 00:55:08</td>\n",
       "      <td>2023-01-01 01:01:27</td>\n",
       "      <td>1.0</td>\n",
       "      <td>1.10</td>\n",
       "      <td>1.0</td>\n",
       "      <td>N</td>\n",
       "      <td>43</td>\n",
       "      <td>237</td>\n",
       "      <td>1</td>\n",
       "      <td>7.90</td>\n",
       "      <td>1.00</td>\n",
       "      <td>0.5</td>\n",
       "      <td>4.00</td>\n",
       "      <td>0.0</td>\n",
       "      <td>1.0</td>\n",
       "      <td>16.90</td>\n",
       "      <td>2.5</td>\n",
       "      <td>0.00</td>\n",
       "    </tr>\n",
       "    <tr>\n",
       "      <th>2</th>\n",
       "      <td>2</td>\n",
       "      <td>2023-01-01 00:25:04</td>\n",
       "      <td>2023-01-01 00:37:49</td>\n",
       "      <td>1.0</td>\n",
       "      <td>2.51</td>\n",
       "      <td>1.0</td>\n",
       "      <td>N</td>\n",
       "      <td>48</td>\n",
       "      <td>238</td>\n",
       "      <td>1</td>\n",
       "      <td>14.90</td>\n",
       "      <td>1.00</td>\n",
       "      <td>0.5</td>\n",
       "      <td>15.00</td>\n",
       "      <td>0.0</td>\n",
       "      <td>1.0</td>\n",
       "      <td>34.90</td>\n",
       "      <td>2.5</td>\n",
       "      <td>0.00</td>\n",
       "    </tr>\n",
       "    <tr>\n",
       "      <th>3</th>\n",
       "      <td>1</td>\n",
       "      <td>2023-01-01 00:03:48</td>\n",
       "      <td>2023-01-01 00:13:25</td>\n",
       "      <td>0.0</td>\n",
       "      <td>1.90</td>\n",
       "      <td>1.0</td>\n",
       "      <td>N</td>\n",
       "      <td>138</td>\n",
       "      <td>7</td>\n",
       "      <td>1</td>\n",
       "      <td>12.10</td>\n",
       "      <td>7.25</td>\n",
       "      <td>0.5</td>\n",
       "      <td>0.00</td>\n",
       "      <td>0.0</td>\n",
       "      <td>1.0</td>\n",
       "      <td>20.85</td>\n",
       "      <td>0.0</td>\n",
       "      <td>1.25</td>\n",
       "    </tr>\n",
       "    <tr>\n",
       "      <th>4</th>\n",
       "      <td>2</td>\n",
       "      <td>2023-01-01 00:10:29</td>\n",
       "      <td>2023-01-01 00:21:19</td>\n",
       "      <td>1.0</td>\n",
       "      <td>1.43</td>\n",
       "      <td>1.0</td>\n",
       "      <td>N</td>\n",
       "      <td>107</td>\n",
       "      <td>79</td>\n",
       "      <td>1</td>\n",
       "      <td>11.40</td>\n",
       "      <td>1.00</td>\n",
       "      <td>0.5</td>\n",
       "      <td>3.28</td>\n",
       "      <td>0.0</td>\n",
       "      <td>1.0</td>\n",
       "      <td>19.68</td>\n",
       "      <td>2.5</td>\n",
       "      <td>0.00</td>\n",
       "    </tr>\n",
       "    <tr>\n",
       "      <th>...</th>\n",
       "      <td>...</td>\n",
       "      <td>...</td>\n",
       "      <td>...</td>\n",
       "      <td>...</td>\n",
       "      <td>...</td>\n",
       "      <td>...</td>\n",
       "      <td>...</td>\n",
       "      <td>...</td>\n",
       "      <td>...</td>\n",
       "      <td>...</td>\n",
       "      <td>...</td>\n",
       "      <td>...</td>\n",
       "      <td>...</td>\n",
       "      <td>...</td>\n",
       "      <td>...</td>\n",
       "      <td>...</td>\n",
       "      <td>...</td>\n",
       "      <td>...</td>\n",
       "      <td>...</td>\n",
       "    </tr>\n",
       "    <tr>\n",
       "      <th>3066761</th>\n",
       "      <td>2</td>\n",
       "      <td>2023-01-31 23:58:34</td>\n",
       "      <td>2023-02-01 00:12:33</td>\n",
       "      <td>NaN</td>\n",
       "      <td>3.05</td>\n",
       "      <td>NaN</td>\n",
       "      <td>None</td>\n",
       "      <td>107</td>\n",
       "      <td>48</td>\n",
       "      <td>0</td>\n",
       "      <td>15.80</td>\n",
       "      <td>0.00</td>\n",
       "      <td>0.5</td>\n",
       "      <td>3.96</td>\n",
       "      <td>0.0</td>\n",
       "      <td>1.0</td>\n",
       "      <td>23.76</td>\n",
       "      <td>NaN</td>\n",
       "      <td>NaN</td>\n",
       "    </tr>\n",
       "    <tr>\n",
       "      <th>3066762</th>\n",
       "      <td>2</td>\n",
       "      <td>2023-01-31 23:31:09</td>\n",
       "      <td>2023-01-31 23:50:36</td>\n",
       "      <td>NaN</td>\n",
       "      <td>5.80</td>\n",
       "      <td>NaN</td>\n",
       "      <td>None</td>\n",
       "      <td>112</td>\n",
       "      <td>75</td>\n",
       "      <td>0</td>\n",
       "      <td>22.43</td>\n",
       "      <td>0.00</td>\n",
       "      <td>0.5</td>\n",
       "      <td>2.64</td>\n",
       "      <td>0.0</td>\n",
       "      <td>1.0</td>\n",
       "      <td>29.07</td>\n",
       "      <td>NaN</td>\n",
       "      <td>NaN</td>\n",
       "    </tr>\n",
       "    <tr>\n",
       "      <th>3066763</th>\n",
       "      <td>2</td>\n",
       "      <td>2023-01-31 23:01:05</td>\n",
       "      <td>2023-01-31 23:25:36</td>\n",
       "      <td>NaN</td>\n",
       "      <td>4.67</td>\n",
       "      <td>NaN</td>\n",
       "      <td>None</td>\n",
       "      <td>114</td>\n",
       "      <td>239</td>\n",
       "      <td>0</td>\n",
       "      <td>17.61</td>\n",
       "      <td>0.00</td>\n",
       "      <td>0.5</td>\n",
       "      <td>5.32</td>\n",
       "      <td>0.0</td>\n",
       "      <td>1.0</td>\n",
       "      <td>26.93</td>\n",
       "      <td>NaN</td>\n",
       "      <td>NaN</td>\n",
       "    </tr>\n",
       "    <tr>\n",
       "      <th>3066764</th>\n",
       "      <td>2</td>\n",
       "      <td>2023-01-31 23:40:00</td>\n",
       "      <td>2023-01-31 23:53:00</td>\n",
       "      <td>NaN</td>\n",
       "      <td>3.15</td>\n",
       "      <td>NaN</td>\n",
       "      <td>None</td>\n",
       "      <td>230</td>\n",
       "      <td>79</td>\n",
       "      <td>0</td>\n",
       "      <td>18.15</td>\n",
       "      <td>0.00</td>\n",
       "      <td>0.5</td>\n",
       "      <td>4.43</td>\n",
       "      <td>0.0</td>\n",
       "      <td>1.0</td>\n",
       "      <td>26.58</td>\n",
       "      <td>NaN</td>\n",
       "      <td>NaN</td>\n",
       "    </tr>\n",
       "    <tr>\n",
       "      <th>3066765</th>\n",
       "      <td>2</td>\n",
       "      <td>2023-01-31 23:07:32</td>\n",
       "      <td>2023-01-31 23:21:56</td>\n",
       "      <td>NaN</td>\n",
       "      <td>2.85</td>\n",
       "      <td>NaN</td>\n",
       "      <td>None</td>\n",
       "      <td>262</td>\n",
       "      <td>143</td>\n",
       "      <td>0</td>\n",
       "      <td>15.97</td>\n",
       "      <td>0.00</td>\n",
       "      <td>0.5</td>\n",
       "      <td>2.00</td>\n",
       "      <td>0.0</td>\n",
       "      <td>1.0</td>\n",
       "      <td>21.97</td>\n",
       "      <td>NaN</td>\n",
       "      <td>NaN</td>\n",
       "    </tr>\n",
       "  </tbody>\n",
       "</table>\n",
       "<p>3066766 rows × 19 columns</p>\n",
       "</div>"
      ]
     },
     "execution_count": 18,
     "metadata": {},
     "output_type": "execute_result"
    }
   ],
   "execution_count": 18
  },
  {
   "metadata": {
    "ExecuteTime": {
     "end_time": "2025-09-02T16:39:17.403231Z",
     "start_time": "2025-09-02T16:39:17.328263Z"
    }
   },
   "cell_type": "code",
   "source": [
    "duration_min = (df.tpep_dropoff_datetime - df.tpep_pickup_datetime).dt.total_seconds()/60\n",
    "absurd_timings = (duration_min <= 0).sum()"
   ],
   "id": "a61f7768c8bf9f03",
   "outputs": [],
   "execution_count": 19
  },
  {
   "metadata": {
    "ExecuteTime": {
     "end_time": "2025-09-02T16:39:17.497262Z",
     "start_time": "2025-09-02T16:39:17.489231Z"
    }
   },
   "cell_type": "code",
   "source": "(absurd_timings/df.shape[0])*100",
   "id": "d7ca3a2818922531",
   "outputs": [
    {
     "data": {
      "text/plain": [
       "np.float64(0.03655316382143274)"
      ]
     },
     "execution_count": 20,
     "metadata": {},
     "output_type": "execute_result"
    }
   ],
   "execution_count": 20
  },
  {
   "metadata": {
    "ExecuteTime": {
     "end_time": "2025-09-02T16:39:17.782261Z",
     "start_time": "2025-09-02T16:39:17.645229Z"
    }
   },
   "cell_type": "code",
   "source": "print(duration_min.describe(percentiles=[0.01, 0.05, 0.5, 0.95, 0.99]).to_string())",
   "id": "164aa059487adfe6",
   "outputs": [
    {
     "name": "stdout",
     "output_type": "stream",
     "text": [
      "count    3.066766e+06\n",
      "mean     1.566900e+01\n",
      "std      4.259435e+01\n",
      "min     -2.920000e+01\n",
      "1%       7.833333e-01\n",
      "5%       3.300000e+00\n",
      "50%      1.151667e+01\n",
      "95%      3.646667e+01\n",
      "99%      5.725000e+01\n",
      "max      1.002918e+04\n"
     ]
    }
   ],
   "execution_count": 21
  },
  {
   "metadata": {
    "ExecuteTime": {
     "end_time": "2025-09-02T16:39:17.924257Z",
     "start_time": "2025-09-02T16:39:17.789232Z"
    }
   },
   "cell_type": "code",
   "source": "print(df['trip_distance'].describe(percentiles=[0.01, 0.05, 0.5, 0.95, 0.99]).to_string())",
   "id": "29ea7f59482a3639",
   "outputs": [
    {
     "name": "stdout",
     "output_type": "stream",
     "text": [
      "count    3.066766e+06\n",
      "mean     3.847342e+00\n",
      "std      2.495838e+02\n",
      "min      0.000000e+00\n",
      "1%       0.000000e+00\n",
      "5%       5.000000e-01\n",
      "50%      1.800000e+00\n",
      "95%      1.432000e+01\n",
      "99%      2.006000e+01\n",
      "max      2.589281e+05\n"
     ]
    }
   ],
   "execution_count": 22
  },
  {
   "metadata": {
    "ExecuteTime": {
     "end_time": "2025-09-02T16:39:17.956226Z",
     "start_time": "2025-09-02T16:39:17.933230Z"
    }
   },
   "cell_type": "code",
   "source": "(((df['trip_distance'] <= 0).sum())/df.shape[0])*100",
   "id": "9973aa453a6a02d2",
   "outputs": [
    {
     "data": {
      "text/plain": [
       "np.float64(1.4954515603733705)"
      ]
     },
     "execution_count": 23,
     "metadata": {},
     "output_type": "execute_result"
    }
   ],
   "execution_count": 23
  },
  {
   "metadata": {
    "ExecuteTime": {
     "end_time": "2025-09-02T17:03:42.909957Z",
     "start_time": "2025-09-02T17:03:42.787523Z"
    }
   },
   "cell_type": "code",
   "source": "df['trip_distance'].describe(percentiles=[0.999])",
   "id": "5842122de4ecc6d0",
   "outputs": [
    {
     "data": {
      "text/plain": [
       "count    3.066766e+06\n",
       "mean     3.847342e+00\n",
       "std      2.495838e+02\n",
       "min      0.000000e+00\n",
       "50%      1.800000e+00\n",
       "99.9%    2.880000e+01\n",
       "max      2.589281e+05\n",
       "Name: trip_distance, dtype: float64"
      ]
     },
     "execution_count": 38,
     "metadata": {},
     "output_type": "execute_result"
    }
   ],
   "execution_count": 38
  },
  {
   "metadata": {
    "ExecuteTime": {
     "end_time": "2025-09-02T16:56:02.452176Z",
     "start_time": "2025-09-02T16:56:02.327145Z"
    }
   },
   "cell_type": "code",
   "source": "soft_cap = max(df['trip_distance'].describe(percentiles=[0.999]).to_dict()['99.9%'],50)",
   "id": "76ce08f8f1bcb31c",
   "outputs": [],
   "execution_count": 35
  },
  {
   "metadata": {
    "ExecuteTime": {
     "end_time": "2025-09-02T16:56:03.257279Z",
     "start_time": "2025-09-02T16:56:03.247281Z"
    }
   },
   "cell_type": "code",
   "source": "soft_cap",
   "id": "6131b9cb08c600ea",
   "outputs": [
    {
     "data": {
      "text/plain": [
       "50"
      ]
     },
     "execution_count": 36,
     "metadata": {},
     "output_type": "execute_result"
    }
   ],
   "execution_count": 36
  },
  {
   "metadata": {
    "ExecuteTime": {
     "end_time": "2025-09-02T17:56:00.718490Z",
     "start_time": "2025-09-02T17:56:00.706469Z"
    }
   },
   "cell_type": "code",
   "source": "overCapPct = ((df['trip_distance'] > soft_cap).sum())/df.shape[0]*100",
   "id": "773510557ff982fb",
   "outputs": [],
   "execution_count": 62
  },
  {
   "metadata": {
    "ExecuteTime": {
     "end_time": "2025-09-02T17:56:06.465884Z",
     "start_time": "2025-09-02T17:56:06.446799Z"
    }
   },
   "cell_type": "code",
   "source": "print('The 0.1% above cap are',(df['trip_distance'] > soft_cap).sum(),'the percentage is', round(overCapPct,3))",
   "id": "e1d32765a436dfeb",
   "outputs": [
    {
     "name": "stdout",
     "output_type": "stream",
     "text": [
      "The 0.1% above cap are 387 the percentage is 0.013\n"
     ]
    }
   ],
   "execution_count": 64
  },
  {
   "metadata": {
    "ExecuteTime": {
     "end_time": "2025-09-02T17:59:40.943886Z",
     "start_time": "2025-09-02T17:59:40.916887Z"
    }
   },
   "cell_type": "code",
   "source": "df",
   "id": "cd9e30b0c67fa7ee",
   "outputs": [
    {
     "data": {
      "text/plain": [
       "         VendorID tpep_pickup_datetime tpep_dropoff_datetime  passenger_count  trip_distance  RatecodeID  \\\n",
       "0               2  2023-01-01 00:32:10   2023-01-01 00:40:36              1.0           0.97         1.0   \n",
       "1               2  2023-01-01 00:55:08   2023-01-01 01:01:27              1.0           1.10         1.0   \n",
       "2               2  2023-01-01 00:25:04   2023-01-01 00:37:49              1.0           2.51         1.0   \n",
       "3               1  2023-01-01 00:03:48   2023-01-01 00:13:25              0.0           1.90         1.0   \n",
       "4               2  2023-01-01 00:10:29   2023-01-01 00:21:19              1.0           1.43         1.0   \n",
       "...           ...                  ...                   ...              ...            ...         ...   \n",
       "3066761         2  2023-01-31 23:58:34   2023-02-01 00:12:33              NaN           3.05         NaN   \n",
       "3066762         2  2023-01-31 23:31:09   2023-01-31 23:50:36              NaN           5.80         NaN   \n",
       "3066763         2  2023-01-31 23:01:05   2023-01-31 23:25:36              NaN           4.67         NaN   \n",
       "3066764         2  2023-01-31 23:40:00   2023-01-31 23:53:00              NaN           3.15         NaN   \n",
       "3066765         2  2023-01-31 23:07:32   2023-01-31 23:21:56              NaN           2.85         NaN   \n",
       "\n",
       "        store_and_fwd_flag  PULocationID  DOLocationID  payment_type  fare_amount  extra  mta_tax  tip_amount  \\\n",
       "0                        N           161           141             2         9.30   1.00      0.5        0.00   \n",
       "1                        N            43           237             1         7.90   1.00      0.5        4.00   \n",
       "2                        N            48           238             1        14.90   1.00      0.5       15.00   \n",
       "3                        N           138             7             1        12.10   7.25      0.5        0.00   \n",
       "4                        N           107            79             1        11.40   1.00      0.5        3.28   \n",
       "...                    ...           ...           ...           ...          ...    ...      ...         ...   \n",
       "3066761               None           107            48             0        15.80   0.00      0.5        3.96   \n",
       "3066762               None           112            75             0        22.43   0.00      0.5        2.64   \n",
       "3066763               None           114           239             0        17.61   0.00      0.5        5.32   \n",
       "3066764               None           230            79             0        18.15   0.00      0.5        4.43   \n",
       "3066765               None           262           143             0        15.97   0.00      0.5        2.00   \n",
       "\n",
       "         tolls_amount  improvement_surcharge  total_amount  congestion_surcharge  airport_fee  \n",
       "0                 0.0                    1.0         14.30                   2.5         0.00  \n",
       "1                 0.0                    1.0         16.90                   2.5         0.00  \n",
       "2                 0.0                    1.0         34.90                   2.5         0.00  \n",
       "3                 0.0                    1.0         20.85                   0.0         1.25  \n",
       "4                 0.0                    1.0         19.68                   2.5         0.00  \n",
       "...               ...                    ...           ...                   ...          ...  \n",
       "3066761           0.0                    1.0         23.76                   NaN          NaN  \n",
       "3066762           0.0                    1.0         29.07                   NaN          NaN  \n",
       "3066763           0.0                    1.0         26.93                   NaN          NaN  \n",
       "3066764           0.0                    1.0         26.58                   NaN          NaN  \n",
       "3066765           0.0                    1.0         21.97                   NaN          NaN  \n",
       "\n",
       "[3066766 rows x 19 columns]"
      ],
      "text/html": [
       "<div>\n",
       "<style scoped>\n",
       "    .dataframe tbody tr th:only-of-type {\n",
       "        vertical-align: middle;\n",
       "    }\n",
       "\n",
       "    .dataframe tbody tr th {\n",
       "        vertical-align: top;\n",
       "    }\n",
       "\n",
       "    .dataframe thead th {\n",
       "        text-align: right;\n",
       "    }\n",
       "</style>\n",
       "<table border=\"1\" class=\"dataframe\">\n",
       "  <thead>\n",
       "    <tr style=\"text-align: right;\">\n",
       "      <th></th>\n",
       "      <th>VendorID</th>\n",
       "      <th>tpep_pickup_datetime</th>\n",
       "      <th>tpep_dropoff_datetime</th>\n",
       "      <th>passenger_count</th>\n",
       "      <th>trip_distance</th>\n",
       "      <th>RatecodeID</th>\n",
       "      <th>store_and_fwd_flag</th>\n",
       "      <th>PULocationID</th>\n",
       "      <th>DOLocationID</th>\n",
       "      <th>payment_type</th>\n",
       "      <th>fare_amount</th>\n",
       "      <th>extra</th>\n",
       "      <th>mta_tax</th>\n",
       "      <th>tip_amount</th>\n",
       "      <th>tolls_amount</th>\n",
       "      <th>improvement_surcharge</th>\n",
       "      <th>total_amount</th>\n",
       "      <th>congestion_surcharge</th>\n",
       "      <th>airport_fee</th>\n",
       "    </tr>\n",
       "  </thead>\n",
       "  <tbody>\n",
       "    <tr>\n",
       "      <th>0</th>\n",
       "      <td>2</td>\n",
       "      <td>2023-01-01 00:32:10</td>\n",
       "      <td>2023-01-01 00:40:36</td>\n",
       "      <td>1.0</td>\n",
       "      <td>0.97</td>\n",
       "      <td>1.0</td>\n",
       "      <td>N</td>\n",
       "      <td>161</td>\n",
       "      <td>141</td>\n",
       "      <td>2</td>\n",
       "      <td>9.30</td>\n",
       "      <td>1.00</td>\n",
       "      <td>0.5</td>\n",
       "      <td>0.00</td>\n",
       "      <td>0.0</td>\n",
       "      <td>1.0</td>\n",
       "      <td>14.30</td>\n",
       "      <td>2.5</td>\n",
       "      <td>0.00</td>\n",
       "    </tr>\n",
       "    <tr>\n",
       "      <th>1</th>\n",
       "      <td>2</td>\n",
       "      <td>2023-01-01 00:55:08</td>\n",
       "      <td>2023-01-01 01:01:27</td>\n",
       "      <td>1.0</td>\n",
       "      <td>1.10</td>\n",
       "      <td>1.0</td>\n",
       "      <td>N</td>\n",
       "      <td>43</td>\n",
       "      <td>237</td>\n",
       "      <td>1</td>\n",
       "      <td>7.90</td>\n",
       "      <td>1.00</td>\n",
       "      <td>0.5</td>\n",
       "      <td>4.00</td>\n",
       "      <td>0.0</td>\n",
       "      <td>1.0</td>\n",
       "      <td>16.90</td>\n",
       "      <td>2.5</td>\n",
       "      <td>0.00</td>\n",
       "    </tr>\n",
       "    <tr>\n",
       "      <th>2</th>\n",
       "      <td>2</td>\n",
       "      <td>2023-01-01 00:25:04</td>\n",
       "      <td>2023-01-01 00:37:49</td>\n",
       "      <td>1.0</td>\n",
       "      <td>2.51</td>\n",
       "      <td>1.0</td>\n",
       "      <td>N</td>\n",
       "      <td>48</td>\n",
       "      <td>238</td>\n",
       "      <td>1</td>\n",
       "      <td>14.90</td>\n",
       "      <td>1.00</td>\n",
       "      <td>0.5</td>\n",
       "      <td>15.00</td>\n",
       "      <td>0.0</td>\n",
       "      <td>1.0</td>\n",
       "      <td>34.90</td>\n",
       "      <td>2.5</td>\n",
       "      <td>0.00</td>\n",
       "    </tr>\n",
       "    <tr>\n",
       "      <th>3</th>\n",
       "      <td>1</td>\n",
       "      <td>2023-01-01 00:03:48</td>\n",
       "      <td>2023-01-01 00:13:25</td>\n",
       "      <td>0.0</td>\n",
       "      <td>1.90</td>\n",
       "      <td>1.0</td>\n",
       "      <td>N</td>\n",
       "      <td>138</td>\n",
       "      <td>7</td>\n",
       "      <td>1</td>\n",
       "      <td>12.10</td>\n",
       "      <td>7.25</td>\n",
       "      <td>0.5</td>\n",
       "      <td>0.00</td>\n",
       "      <td>0.0</td>\n",
       "      <td>1.0</td>\n",
       "      <td>20.85</td>\n",
       "      <td>0.0</td>\n",
       "      <td>1.25</td>\n",
       "    </tr>\n",
       "    <tr>\n",
       "      <th>4</th>\n",
       "      <td>2</td>\n",
       "      <td>2023-01-01 00:10:29</td>\n",
       "      <td>2023-01-01 00:21:19</td>\n",
       "      <td>1.0</td>\n",
       "      <td>1.43</td>\n",
       "      <td>1.0</td>\n",
       "      <td>N</td>\n",
       "      <td>107</td>\n",
       "      <td>79</td>\n",
       "      <td>1</td>\n",
       "      <td>11.40</td>\n",
       "      <td>1.00</td>\n",
       "      <td>0.5</td>\n",
       "      <td>3.28</td>\n",
       "      <td>0.0</td>\n",
       "      <td>1.0</td>\n",
       "      <td>19.68</td>\n",
       "      <td>2.5</td>\n",
       "      <td>0.00</td>\n",
       "    </tr>\n",
       "    <tr>\n",
       "      <th>...</th>\n",
       "      <td>...</td>\n",
       "      <td>...</td>\n",
       "      <td>...</td>\n",
       "      <td>...</td>\n",
       "      <td>...</td>\n",
       "      <td>...</td>\n",
       "      <td>...</td>\n",
       "      <td>...</td>\n",
       "      <td>...</td>\n",
       "      <td>...</td>\n",
       "      <td>...</td>\n",
       "      <td>...</td>\n",
       "      <td>...</td>\n",
       "      <td>...</td>\n",
       "      <td>...</td>\n",
       "      <td>...</td>\n",
       "      <td>...</td>\n",
       "      <td>...</td>\n",
       "      <td>...</td>\n",
       "    </tr>\n",
       "    <tr>\n",
       "      <th>3066761</th>\n",
       "      <td>2</td>\n",
       "      <td>2023-01-31 23:58:34</td>\n",
       "      <td>2023-02-01 00:12:33</td>\n",
       "      <td>NaN</td>\n",
       "      <td>3.05</td>\n",
       "      <td>NaN</td>\n",
       "      <td>None</td>\n",
       "      <td>107</td>\n",
       "      <td>48</td>\n",
       "      <td>0</td>\n",
       "      <td>15.80</td>\n",
       "      <td>0.00</td>\n",
       "      <td>0.5</td>\n",
       "      <td>3.96</td>\n",
       "      <td>0.0</td>\n",
       "      <td>1.0</td>\n",
       "      <td>23.76</td>\n",
       "      <td>NaN</td>\n",
       "      <td>NaN</td>\n",
       "    </tr>\n",
       "    <tr>\n",
       "      <th>3066762</th>\n",
       "      <td>2</td>\n",
       "      <td>2023-01-31 23:31:09</td>\n",
       "      <td>2023-01-31 23:50:36</td>\n",
       "      <td>NaN</td>\n",
       "      <td>5.80</td>\n",
       "      <td>NaN</td>\n",
       "      <td>None</td>\n",
       "      <td>112</td>\n",
       "      <td>75</td>\n",
       "      <td>0</td>\n",
       "      <td>22.43</td>\n",
       "      <td>0.00</td>\n",
       "      <td>0.5</td>\n",
       "      <td>2.64</td>\n",
       "      <td>0.0</td>\n",
       "      <td>1.0</td>\n",
       "      <td>29.07</td>\n",
       "      <td>NaN</td>\n",
       "      <td>NaN</td>\n",
       "    </tr>\n",
       "    <tr>\n",
       "      <th>3066763</th>\n",
       "      <td>2</td>\n",
       "      <td>2023-01-31 23:01:05</td>\n",
       "      <td>2023-01-31 23:25:36</td>\n",
       "      <td>NaN</td>\n",
       "      <td>4.67</td>\n",
       "      <td>NaN</td>\n",
       "      <td>None</td>\n",
       "      <td>114</td>\n",
       "      <td>239</td>\n",
       "      <td>0</td>\n",
       "      <td>17.61</td>\n",
       "      <td>0.00</td>\n",
       "      <td>0.5</td>\n",
       "      <td>5.32</td>\n",
       "      <td>0.0</td>\n",
       "      <td>1.0</td>\n",
       "      <td>26.93</td>\n",
       "      <td>NaN</td>\n",
       "      <td>NaN</td>\n",
       "    </tr>\n",
       "    <tr>\n",
       "      <th>3066764</th>\n",
       "      <td>2</td>\n",
       "      <td>2023-01-31 23:40:00</td>\n",
       "      <td>2023-01-31 23:53:00</td>\n",
       "      <td>NaN</td>\n",
       "      <td>3.15</td>\n",
       "      <td>NaN</td>\n",
       "      <td>None</td>\n",
       "      <td>230</td>\n",
       "      <td>79</td>\n",
       "      <td>0</td>\n",
       "      <td>18.15</td>\n",
       "      <td>0.00</td>\n",
       "      <td>0.5</td>\n",
       "      <td>4.43</td>\n",
       "      <td>0.0</td>\n",
       "      <td>1.0</td>\n",
       "      <td>26.58</td>\n",
       "      <td>NaN</td>\n",
       "      <td>NaN</td>\n",
       "    </tr>\n",
       "    <tr>\n",
       "      <th>3066765</th>\n",
       "      <td>2</td>\n",
       "      <td>2023-01-31 23:07:32</td>\n",
       "      <td>2023-01-31 23:21:56</td>\n",
       "      <td>NaN</td>\n",
       "      <td>2.85</td>\n",
       "      <td>NaN</td>\n",
       "      <td>None</td>\n",
       "      <td>262</td>\n",
       "      <td>143</td>\n",
       "      <td>0</td>\n",
       "      <td>15.97</td>\n",
       "      <td>0.00</td>\n",
       "      <td>0.5</td>\n",
       "      <td>2.00</td>\n",
       "      <td>0.0</td>\n",
       "      <td>1.0</td>\n",
       "      <td>21.97</td>\n",
       "      <td>NaN</td>\n",
       "      <td>NaN</td>\n",
       "    </tr>\n",
       "  </tbody>\n",
       "</table>\n",
       "<p>3066766 rows × 19 columns</p>\n",
       "</div>"
      ]
     },
     "execution_count": 65,
     "metadata": {},
     "output_type": "execute_result"
    }
   ],
   "execution_count": 65
  },
  {
   "metadata": {
    "ExecuteTime": {
     "end_time": "2025-09-02T18:05:54.868286Z",
     "start_time": "2025-09-02T18:05:54.851319Z"
    }
   },
   "cell_type": "code",
   "source": "fare_n_charges = ['fare_amount','extra','mta_tax','tip_amount','tolls_amount','improvement_surcharge','congestion_surcharge','airport_fee']",
   "id": "b0d0211e2541f6e3",
   "outputs": [
    {
     "data": {
      "text/plain": [
       "['fare_amount',\n",
       " 'extra',\n",
       " 'mta_tax',\n",
       " 'tip_amount',\n",
       " 'tolls_amount',\n",
       " 'improvement_surcharge',\n",
       " 'congestion_surcharge',\n",
       " 'airport_fee']"
      ]
     },
     "execution_count": 67,
     "metadata": {},
     "output_type": "execute_result"
    }
   ],
   "execution_count": 67
  },
  {
   "metadata": {
    "ExecuteTime": {
     "end_time": "2025-09-02T18:38:47.752101Z",
     "start_time": "2025-09-02T18:38:47.244565Z"
    }
   },
   "cell_type": "code",
   "source": [
    "comp_sum = df[fare_n_charges].fillna(0).sum(axis=1)\n",
    "total_sum = df['total_amount']"
   ],
   "id": "8f81c9f5eb252cfe",
   "outputs": [],
   "execution_count": 84
  },
  {
   "metadata": {
    "ExecuteTime": {
     "end_time": "2025-09-02T18:47:33.838963Z",
     "start_time": "2025-09-02T18:47:33.811777Z"
    }
   },
   "cell_type": "code",
   "source": "difference_of_amount = abs(comp_sum - total_sum)",
   "id": "55b75322ae97673b",
   "outputs": [],
   "execution_count": 91
  },
  {
   "metadata": {
    "ExecuteTime": {
     "end_time": "2025-09-02T18:50:18.697175Z",
     "start_time": "2025-09-02T18:50:18.677207Z"
    }
   },
   "cell_type": "code",
   "source": "positive = difference_of_amount > 0\n",
   "id": "637a719e34907ec6",
   "outputs": [
    {
     "data": {
      "text/plain": [
       "np.int64(1089301)"
      ]
     },
     "execution_count": 95,
     "metadata": {},
     "output_type": "execute_result"
    }
   ],
   "execution_count": 95
  },
  {
   "metadata": {
    "ExecuteTime": {
     "end_time": "2025-09-02T18:45:54.589785Z",
     "start_time": "2025-09-02T18:45:54.574747Z"
    }
   },
   "cell_type": "code",
   "source": "",
   "id": "95edbf510deb88df",
   "outputs": [],
   "execution_count": null
  }
 ],
 "metadata": {
  "kernelspec": {
   "display_name": "Python 3",
   "language": "python",
   "name": "python3"
  },
  "language_info": {
   "codemirror_mode": {
    "name": "ipython",
    "version": 2
   },
   "file_extension": ".py",
   "mimetype": "text/x-python",
   "name": "python",
   "nbconvert_exporter": "python",
   "pygments_lexer": "ipython2",
   "version": "2.7.6"
  }
 },
 "nbformat": 4,
 "nbformat_minor": 5
}
