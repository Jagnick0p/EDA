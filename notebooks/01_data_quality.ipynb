{
 "cells": [
  {
   "metadata": {
    "ExecuteTime": {
     "end_time": "2025-09-04T16:55:01.630385Z",
     "start_time": "2025-09-04T16:54:54.530116Z"
    }
   },
   "cell_type": "code",
   "source": [
    "import json\n",
    "import os\n",
    "import pandas as pd\n",
    "import numpy as np\n",
    "from pathlib import Path\n",
    "from PIL.ImageChops import constant\n",
    "from Scripts.pywin32_testall import project_root\n",
    "from scipy.stats import obrientransform\n",
    "import sys\n",
    "from matplotlib import pyplot as plt\n",
    "from pathlib import Path\n",
    "project_root = Path(__file__).resolve().parents[1] if \"__file__\" in globals() else Path().resolve().parent\n",
    "sys.path.append(str(project_root))\n",
    "from src.utils.eda_utils import missingness"
   ],
   "id": "a0f7a7d388dfbbde",
   "outputs": [],
   "execution_count": 1
  },
  {
   "cell_type": "code",
   "id": "initial_id",
   "metadata": {
    "collapsed": true,
    "ExecuteTime": {
     "end_time": "2025-09-04T16:55:01.661562Z",
     "start_time": "2025-09-04T16:55:01.643358Z"
    }
   },
   "source": [
    "Root_dir = Path.cwd().parent\n",
    "data_dir = Path(Root_dir.joinpath('data/raw/tlc/yellow/2023'))\n",
    "zone_path = Path(Root_dir.joinpath('data/raw/tlc/misc/taxi_zone_lookup.csv'))\n",
    "file_1 = Path(data_dir.joinpath('yellow_tripdata_2023-01.parquet'))"
   ],
   "outputs": [],
   "execution_count": 2
  },
  {
   "metadata": {
    "ExecuteTime": {
     "end_time": "2025-09-04T16:55:02.500298Z",
     "start_time": "2025-09-04T16:55:01.668610Z"
    }
   },
   "cell_type": "code",
   "source": "df = pd.read_parquet(file_1)",
   "id": "b6f76f9d4bbf13df",
   "outputs": [],
   "execution_count": 3
  },
  {
   "metadata": {
    "ExecuteTime": {
     "end_time": "2025-09-04T16:55:03.792949Z",
     "start_time": "2025-09-04T16:55:02.865858Z"
    }
   },
   "cell_type": "code",
   "source": "mt = missingness(df)",
   "id": "48b3e4bb7d020414",
   "outputs": [],
   "execution_count": 4
  },
  {
   "metadata": {
    "ExecuteTime": {
     "end_time": "2025-09-04T16:55:03.904898Z",
     "start_time": "2025-09-04T16:55:03.870861Z"
    }
   },
   "cell_type": "code",
   "source": [
    "output_path = Path(Root_dir.joinpath('reports/tables/missingness_table.csv'))\n",
    "output_path.parent.mkdir(parents=True, exist_ok=True)\n",
    "mt.to_csv(output_path, index=False)\n",
    "mt"
   ],
   "id": "662b87daefdd1953",
   "outputs": [
    {
     "data": {
      "text/plain": [
       "                     name           dtype  n_missing  %missing  n_non_missing  \\\n",
       "0              RatecodeID         float64      71743     2.339        2995023   \n",
       "1             airport_fee         float64      71743     2.339        2995023   \n",
       "2    congestion_surcharge         float64      71743     2.339        2995023   \n",
       "3         passenger_count         float64      71743     2.339        2995023   \n",
       "4      store_and_fwd_flag          object      71743     2.339        2995023   \n",
       "5            DOLocationID           int64          0     0.000        3066766   \n",
       "6            PULocationID           int64          0     0.000        3066766   \n",
       "7                VendorID           int64          0     0.000        3066766   \n",
       "8                   extra         float64          0     0.000        3066766   \n",
       "9             fare_amount         float64          0     0.000        3066766   \n",
       "10  improvement_surcharge         float64          0     0.000        3066766   \n",
       "11                mta_tax         float64          0     0.000        3066766   \n",
       "12           payment_type           int64          0     0.000        3066766   \n",
       "13             tip_amount         float64          0     0.000        3066766   \n",
       "14           tolls_amount         float64          0     0.000        3066766   \n",
       "15           total_amount         float64          0     0.000        3066766   \n",
       "16  tpep_dropoff_datetime  datetime64[us]          0     0.000        3066766   \n",
       "17   tpep_pickup_datetime  datetime64[us]          0     0.000        3066766   \n",
       "18          trip_distance         float64          0     0.000        3066766   \n",
       "\n",
       "    n_unique  all_missing  constant  infinite  \n",
       "0          7        False     False         0  \n",
       "1          3        False     False         0  \n",
       "2          3        False     False         0  \n",
       "3         10        False     False         0  \n",
       "4          2        False     False         0  \n",
       "5        261        False     False         0  \n",
       "6        257        False     False         0  \n",
       "7          2        False     False         0  \n",
       "8         68        False     False         0  \n",
       "9       6873        False     False         0  \n",
       "10         5        False     False         0  \n",
       "11        10        False     False         0  \n",
       "12         5        False     False         0  \n",
       "13      4036        False     False         0  \n",
       "14       776        False     False         0  \n",
       "15     15871        False     False         0  \n",
       "16   1611319        False     False         0  \n",
       "17   1610975        False     False         0  \n",
       "18      4387        False     False         0  "
      ],
      "text/html": [
       "<div>\n",
       "<style scoped>\n",
       "    .dataframe tbody tr th:only-of-type {\n",
       "        vertical-align: middle;\n",
       "    }\n",
       "\n",
       "    .dataframe tbody tr th {\n",
       "        vertical-align: top;\n",
       "    }\n",
       "\n",
       "    .dataframe thead th {\n",
       "        text-align: right;\n",
       "    }\n",
       "</style>\n",
       "<table border=\"1\" class=\"dataframe\">\n",
       "  <thead>\n",
       "    <tr style=\"text-align: right;\">\n",
       "      <th></th>\n",
       "      <th>name</th>\n",
       "      <th>dtype</th>\n",
       "      <th>n_missing</th>\n",
       "      <th>%missing</th>\n",
       "      <th>n_non_missing</th>\n",
       "      <th>n_unique</th>\n",
       "      <th>all_missing</th>\n",
       "      <th>constant</th>\n",
       "      <th>infinite</th>\n",
       "    </tr>\n",
       "  </thead>\n",
       "  <tbody>\n",
       "    <tr>\n",
       "      <th>0</th>\n",
       "      <td>RatecodeID</td>\n",
       "      <td>float64</td>\n",
       "      <td>71743</td>\n",
       "      <td>2.339</td>\n",
       "      <td>2995023</td>\n",
       "      <td>7</td>\n",
       "      <td>False</td>\n",
       "      <td>False</td>\n",
       "      <td>0</td>\n",
       "    </tr>\n",
       "    <tr>\n",
       "      <th>1</th>\n",
       "      <td>airport_fee</td>\n",
       "      <td>float64</td>\n",
       "      <td>71743</td>\n",
       "      <td>2.339</td>\n",
       "      <td>2995023</td>\n",
       "      <td>3</td>\n",
       "      <td>False</td>\n",
       "      <td>False</td>\n",
       "      <td>0</td>\n",
       "    </tr>\n",
       "    <tr>\n",
       "      <th>2</th>\n",
       "      <td>congestion_surcharge</td>\n",
       "      <td>float64</td>\n",
       "      <td>71743</td>\n",
       "      <td>2.339</td>\n",
       "      <td>2995023</td>\n",
       "      <td>3</td>\n",
       "      <td>False</td>\n",
       "      <td>False</td>\n",
       "      <td>0</td>\n",
       "    </tr>\n",
       "    <tr>\n",
       "      <th>3</th>\n",
       "      <td>passenger_count</td>\n",
       "      <td>float64</td>\n",
       "      <td>71743</td>\n",
       "      <td>2.339</td>\n",
       "      <td>2995023</td>\n",
       "      <td>10</td>\n",
       "      <td>False</td>\n",
       "      <td>False</td>\n",
       "      <td>0</td>\n",
       "    </tr>\n",
       "    <tr>\n",
       "      <th>4</th>\n",
       "      <td>store_and_fwd_flag</td>\n",
       "      <td>object</td>\n",
       "      <td>71743</td>\n",
       "      <td>2.339</td>\n",
       "      <td>2995023</td>\n",
       "      <td>2</td>\n",
       "      <td>False</td>\n",
       "      <td>False</td>\n",
       "      <td>0</td>\n",
       "    </tr>\n",
       "    <tr>\n",
       "      <th>5</th>\n",
       "      <td>DOLocationID</td>\n",
       "      <td>int64</td>\n",
       "      <td>0</td>\n",
       "      <td>0.000</td>\n",
       "      <td>3066766</td>\n",
       "      <td>261</td>\n",
       "      <td>False</td>\n",
       "      <td>False</td>\n",
       "      <td>0</td>\n",
       "    </tr>\n",
       "    <tr>\n",
       "      <th>6</th>\n",
       "      <td>PULocationID</td>\n",
       "      <td>int64</td>\n",
       "      <td>0</td>\n",
       "      <td>0.000</td>\n",
       "      <td>3066766</td>\n",
       "      <td>257</td>\n",
       "      <td>False</td>\n",
       "      <td>False</td>\n",
       "      <td>0</td>\n",
       "    </tr>\n",
       "    <tr>\n",
       "      <th>7</th>\n",
       "      <td>VendorID</td>\n",
       "      <td>int64</td>\n",
       "      <td>0</td>\n",
       "      <td>0.000</td>\n",
       "      <td>3066766</td>\n",
       "      <td>2</td>\n",
       "      <td>False</td>\n",
       "      <td>False</td>\n",
       "      <td>0</td>\n",
       "    </tr>\n",
       "    <tr>\n",
       "      <th>8</th>\n",
       "      <td>extra</td>\n",
       "      <td>float64</td>\n",
       "      <td>0</td>\n",
       "      <td>0.000</td>\n",
       "      <td>3066766</td>\n",
       "      <td>68</td>\n",
       "      <td>False</td>\n",
       "      <td>False</td>\n",
       "      <td>0</td>\n",
       "    </tr>\n",
       "    <tr>\n",
       "      <th>9</th>\n",
       "      <td>fare_amount</td>\n",
       "      <td>float64</td>\n",
       "      <td>0</td>\n",
       "      <td>0.000</td>\n",
       "      <td>3066766</td>\n",
       "      <td>6873</td>\n",
       "      <td>False</td>\n",
       "      <td>False</td>\n",
       "      <td>0</td>\n",
       "    </tr>\n",
       "    <tr>\n",
       "      <th>10</th>\n",
       "      <td>improvement_surcharge</td>\n",
       "      <td>float64</td>\n",
       "      <td>0</td>\n",
       "      <td>0.000</td>\n",
       "      <td>3066766</td>\n",
       "      <td>5</td>\n",
       "      <td>False</td>\n",
       "      <td>False</td>\n",
       "      <td>0</td>\n",
       "    </tr>\n",
       "    <tr>\n",
       "      <th>11</th>\n",
       "      <td>mta_tax</td>\n",
       "      <td>float64</td>\n",
       "      <td>0</td>\n",
       "      <td>0.000</td>\n",
       "      <td>3066766</td>\n",
       "      <td>10</td>\n",
       "      <td>False</td>\n",
       "      <td>False</td>\n",
       "      <td>0</td>\n",
       "    </tr>\n",
       "    <tr>\n",
       "      <th>12</th>\n",
       "      <td>payment_type</td>\n",
       "      <td>int64</td>\n",
       "      <td>0</td>\n",
       "      <td>0.000</td>\n",
       "      <td>3066766</td>\n",
       "      <td>5</td>\n",
       "      <td>False</td>\n",
       "      <td>False</td>\n",
       "      <td>0</td>\n",
       "    </tr>\n",
       "    <tr>\n",
       "      <th>13</th>\n",
       "      <td>tip_amount</td>\n",
       "      <td>float64</td>\n",
       "      <td>0</td>\n",
       "      <td>0.000</td>\n",
       "      <td>3066766</td>\n",
       "      <td>4036</td>\n",
       "      <td>False</td>\n",
       "      <td>False</td>\n",
       "      <td>0</td>\n",
       "    </tr>\n",
       "    <tr>\n",
       "      <th>14</th>\n",
       "      <td>tolls_amount</td>\n",
       "      <td>float64</td>\n",
       "      <td>0</td>\n",
       "      <td>0.000</td>\n",
       "      <td>3066766</td>\n",
       "      <td>776</td>\n",
       "      <td>False</td>\n",
       "      <td>False</td>\n",
       "      <td>0</td>\n",
       "    </tr>\n",
       "    <tr>\n",
       "      <th>15</th>\n",
       "      <td>total_amount</td>\n",
       "      <td>float64</td>\n",
       "      <td>0</td>\n",
       "      <td>0.000</td>\n",
       "      <td>3066766</td>\n",
       "      <td>15871</td>\n",
       "      <td>False</td>\n",
       "      <td>False</td>\n",
       "      <td>0</td>\n",
       "    </tr>\n",
       "    <tr>\n",
       "      <th>16</th>\n",
       "      <td>tpep_dropoff_datetime</td>\n",
       "      <td>datetime64[us]</td>\n",
       "      <td>0</td>\n",
       "      <td>0.000</td>\n",
       "      <td>3066766</td>\n",
       "      <td>1611319</td>\n",
       "      <td>False</td>\n",
       "      <td>False</td>\n",
       "      <td>0</td>\n",
       "    </tr>\n",
       "    <tr>\n",
       "      <th>17</th>\n",
       "      <td>tpep_pickup_datetime</td>\n",
       "      <td>datetime64[us]</td>\n",
       "      <td>0</td>\n",
       "      <td>0.000</td>\n",
       "      <td>3066766</td>\n",
       "      <td>1610975</td>\n",
       "      <td>False</td>\n",
       "      <td>False</td>\n",
       "      <td>0</td>\n",
       "    </tr>\n",
       "    <tr>\n",
       "      <th>18</th>\n",
       "      <td>trip_distance</td>\n",
       "      <td>float64</td>\n",
       "      <td>0</td>\n",
       "      <td>0.000</td>\n",
       "      <td>3066766</td>\n",
       "      <td>4387</td>\n",
       "      <td>False</td>\n",
       "      <td>False</td>\n",
       "      <td>0</td>\n",
       "    </tr>\n",
       "  </tbody>\n",
       "</table>\n",
       "</div>"
      ]
     },
     "execution_count": 5,
     "metadata": {},
     "output_type": "execute_result"
    }
   ],
   "execution_count": 5
  },
  {
   "metadata": {
    "ExecuteTime": {
     "end_time": "2025-09-04T16:55:03.935952Z",
     "start_time": "2025-09-04T16:55:03.917859Z"
    }
   },
   "cell_type": "code",
   "source": [
    "data = mt.nlargest(15,'%missing')\n",
    "data = mt[['name','%missing']]\n",
    "data = data[data['%missing']>0]"
   ],
   "id": "4527837227a655b7",
   "outputs": [],
   "execution_count": 6
  },
  {
   "metadata": {
    "ExecuteTime": {
     "end_time": "2025-09-04T16:55:04.315858Z",
     "start_time": "2025-09-04T16:55:04.040858Z"
    }
   },
   "cell_type": "code",
   "source": [
    "fig, ax = plt.subplots(figsize=[10,6])\n",
    "ax.set_title('Missingness')\n",
    "ax.set_xlabel('Missing %')\n",
    "ax.set_ylabel('Name of feature')\n",
    "bars = ax.barh(data['name'], data['%missing'])\n",
    "for b, v in zip(bars, data['%missing']):\n",
    "    ax.text(v + 0.2, b.get_y() + b.get_height()/2, f'{v:.1f}%', va='center')\n",
    "plt.tight_layout()\n",
    "plt.savefig(Path(Root_dir.joinpath('reports/figures/missingness_barplot.png')))"
   ],
   "id": "69a0287f608f6dc6",
   "outputs": [
    {
     "data": {
      "text/plain": [
       "<Figure size 1000x600 with 1 Axes>"
      ],
      "image/png": "[encoded data removed]"
     },
     "metadata": {},
     "output_type": "display_data",
     "jetTransient": {
      "display_id": null
     }
    }
   ],
   "execution_count": 7
  },
  {
   "metadata": {
    "ExecuteTime": {
     "end_time": "2025-09-04T16:55:04.379859Z",
     "start_time": "2025-09-04T16:55:04.367858Z"
    }
   },
   "cell_type": "code",
   "source": [
    "all_missing_cols = mt.loc[mt['all_missing'] == True, 'name'].to_list()\n",
    "constant_cols = mt.loc[mt['constant'] == True, 'name'].to_list()\n",
    "infinite_cols = mt.loc[mt['infinite'] > 0, 'name'].to_list()"
   ],
   "id": "4e4ae36ecaaa6e21",
   "outputs": [],
   "execution_count": 8
  },
  {
   "metadata": {
    "ExecuteTime": {
     "end_time": "2025-09-04T16:55:04.443905Z",
     "start_time": "2025-09-04T16:55:04.435906Z"
    }
   },
   "cell_type": "code",
   "source": [
    "problem = {\n",
    "    \"all_missing_cols\": all_missing_cols,\n",
    "    \"constant_cols\": constant_cols,\n",
    "    \"has_infinite_cols\": infinite_cols,\n",
    "}"
   ],
   "id": "5a136727dc7d4a96",
   "outputs": [],
   "execution_count": 9
  },
  {
   "metadata": {
    "ExecuteTime": {
     "end_time": "2025-09-04T16:55:04.507910Z",
     "start_time": "2025-09-04T16:55:04.501908Z"
    }
   },
   "cell_type": "code",
   "source": [
    "output_path = Path(Root_dir.joinpath('reports/tables/problems_columns.json'))\n",
    "output_path.parent.mkdir(parents=True, exist_ok=True)\n",
    "with open(output_path, 'w') as f:\n",
    "    json.dump(problem, f, indent=4)"
   ],
   "id": "cf8894f7bcaad86d",
   "outputs": [],
   "execution_count": 10
  },
  {
   "metadata": {},
   "cell_type": "markdown",
   "source": "Data Duplication Test",
   "id": "70a07ebb3588a59b"
  },
  {
   "metadata": {
    "ExecuteTime": {
     "end_time": "2025-09-04T16:55:06.895999Z",
     "start_time": "2025-09-04T16:55:04.541907Z"
    }
   },
   "cell_type": "code",
   "source": [
    "duplicate_count = df.duplicated(keep=\"first\").sum()\n",
    "pct_duplicated = duplicate_count/df.shape[0]*100\n",
    "if duplicate_count > 0:\n",
    "    print(\"\\nSample duplicated rows:\")\n",
    "    display(df[df.duplicated(keep='first')].head(5))"
   ],
   "id": "faf25e72e8816972",
   "outputs": [],
   "execution_count": 11
  },
  {
   "metadata": {
    "ExecuteTime": {
     "end_time": "2025-09-04T17:15:05.467130Z",
     "start_time": "2025-09-04T17:15:05.458129Z"
    }
   },
   "cell_type": "code",
   "source": [
    "obj_cols = [c for c in df.columns if df[c].dtype == \"object\"]\n",
    "print(f\"{len(obj_cols)} object columns:\", obj_cols)\n"
   ],
   "id": "a211894a9f8c95ca",
   "outputs": [
    {
     "name": "stdout",
     "output_type": "stream",
     "text": [
      "1 object columns: ['store_and_fwd_flag']\n"
     ]
    }
   ],
   "execution_count": 13
  },
  {
   "metadata": {
    "ExecuteTime": {
     "end_time": "2025-09-04T17:15:12.504021Z",
     "start_time": "2025-09-04T17:15:10.625888Z"
    }
   },
   "cell_type": "code",
   "source": [
    "import pandas as pd\n",
    "\n",
    "rows = []\n",
    "n = len(df)\n",
    "\n",
    "for name in obj_cols:\n",
    "    s = df[name]\n",
    "    pct_missing   = float(round(s.isna().mean() * 100, 1))\n",
    "    n_unique      = int(s.nunique(dropna=True))\n",
    "    unique_ratio  = float(n_unique / n) if n else 0.0\n",
    "\n",
    "    # % that can be parsed as number / datetime (NaNs ignored by design)\n",
    "    pct_num_parse = float(round(pd.to_numeric(s, errors=\"coerce\").notna().mean() * 100, 1))\n",
    "    pct_dt_parse  = float(round(pd.to_datetime(s, errors=\"coerce\", infer_datetime_format=True)\n",
    "                                .notna().mean() * 100, 1))\n",
    "\n",
    "    rows.append({\n",
    "        \"name\": name,\n",
    "        \"%missing\": pct_missing,\n",
    "        \"n_unique\": n_unique,\n",
    "        \"unique_ratio\": unique_ratio,\n",
    "        \"%num_parse\": pct_num_parse,\n",
    "        \"%dt_parse\": pct_dt_parse\n",
    "    })\n"
   ],
   "id": "5cd33ba2fec708c8",
   "outputs": [
    {
     "name": "stderr",
     "output_type": "stream",
     "text": [
      "C:\\Users\\dabhi\\AppData\\Local\\Temp\\ipykernel_10128\\778564861.py:14: UserWarning: The argument 'infer_datetime_format' is deprecated and will be removed in a future version. A strict version of it is now the default, see https://pandas.pydata.org/pdeps/0004-consistent-to-datetime-parsing.html. You can safely remove this argument.\n",
      "  pct_dt_parse  = float(round(pd.to_datetime(s, errors=\"coerce\", infer_datetime_format=True)\n",
      "C:\\Users\\dabhi\\AppData\\Local\\Temp\\ipykernel_10128\\778564861.py:14: UserWarning: Could not infer format, so each element will be parsed individually, falling back to `dateutil`. To ensure parsing is consistent and as-expected, please specify a format.\n",
      "  pct_dt_parse  = float(round(pd.to_datetime(s, errors=\"coerce\", infer_datetime_format=True)\n"
     ]
    }
   ],
   "execution_count": 14
  },
  {
   "metadata": {
    "ExecuteTime": {
     "end_time": "2025-09-04T17:23:42.578864Z",
     "start_time": "2025-09-04T17:23:42.555865Z"
    }
   },
   "cell_type": "code",
   "source": [
    "probe = pd.DataFrame(rows, columns=[\"name\",\"%missing\",\"n_unique\",\"unique_ratio\",\"%num_parse\",\"%dt_parse\"])\n",
    "\n",
    "def suggest(row):\n",
    "    if row[\"%num_parse\"] >= 95:\n",
    "        return \"numeric\"\n",
    "    if row[\"%dt_parse\"] >= 95:\n",
    "        return \"datetime\"\n",
    "    if (row[\"n_unique\"] <= 50) or (row[\"unique_ratio\"] <= 0.05):\n",
    "        return \"category\"\n",
    "    return \"free_text\"\n",
    "\n",
    "probe[\"suggest\"] = probe.apply(suggest, axis=1)\n",
    "priority = {\"numeric\":0, \"datetime\":1, \"category\":2, \"free_text\":3}\n",
    "probe[\"priority\"] = probe[\"suggest\"].map(priority)\n",
    "probe\n"
   ],
   "id": "da6e6ae1bf6ffeeb",
   "outputs": [
    {
     "data": {
      "text/plain": [
       "                 name  %missing  n_unique  unique_ratio  %num_parse  \\\n",
       "0  store_and_fwd_flag       2.3         2  6.521528e-07         0.0   \n",
       "\n",
       "   %dt_parse   suggest  priority  \n",
       "0        0.0  category         2  "
      ],
      "text/html": [
       "<div>\n",
       "<style scoped>\n",
       "    .dataframe tbody tr th:only-of-type {\n",
       "        vertical-align: middle;\n",
       "    }\n",
       "\n",
       "    .dataframe tbody tr th {\n",
       "        vertical-align: top;\n",
       "    }\n",
       "\n",
       "    .dataframe thead th {\n",
       "        text-align: right;\n",
       "    }\n",
       "</style>\n",
       "<table border=\"1\" class=\"dataframe\">\n",
       "  <thead>\n",
       "    <tr style=\"text-align: right;\">\n",
       "      <th></th>\n",
       "      <th>name</th>\n",
       "      <th>%missing</th>\n",
       "      <th>n_unique</th>\n",
       "      <th>unique_ratio</th>\n",
       "      <th>%num_parse</th>\n",
       "      <th>%dt_parse</th>\n",
       "      <th>suggest</th>\n",
       "      <th>priority</th>\n",
       "    </tr>\n",
       "  </thead>\n",
       "  <tbody>\n",
       "    <tr>\n",
       "      <th>0</th>\n",
       "      <td>store_and_fwd_flag</td>\n",
       "      <td>2.3</td>\n",
       "      <td>2</td>\n",
       "      <td>6.521528e-07</td>\n",
       "      <td>0.0</td>\n",
       "      <td>0.0</td>\n",
       "      <td>category</td>\n",
       "      <td>2</td>\n",
       "    </tr>\n",
       "  </tbody>\n",
       "</table>\n",
       "</div>"
      ]
     },
     "execution_count": 17,
     "metadata": {},
     "output_type": "execute_result"
    }
   ],
   "execution_count": 17
  },
  {
   "metadata": {
    "ExecuteTime": {
     "end_time": "2025-09-04T17:15:34.606077Z",
     "start_time": "2025-09-04T17:15:34.577077Z"
    }
   },
   "cell_type": "code",
   "source": [
    "probe_sorted = probe.sort_values(\n",
    "    [\"priority\", \"unique_ratio\", \"%missing\", \"name\"],\n",
    "    ascending=[True, True, False, True]\n",
    ").reset_index(drop=True)\n",
    "\n",
    "display(probe_sorted.head(10))\n",
    "\n",
    "print(\"\\nSuggested numeric:\",  probe_sorted.query(\"suggest=='numeric'\")[\"name\"].tolist())\n",
    "print(\"Suggested datetime:\", probe_sorted.query(\"suggest=='datetime'\")[\"name\"].tolist())\n",
    "print(\"Category candidates:\", probe_sorted.query(\"suggest=='category'\")[\"name\"].tolist())\n"
   ],
   "id": "e5b6d18b279f9213",
   "outputs": [
    {
     "data": {
      "text/plain": [
       "                 name  %missing  n_unique  unique_ratio  %num_parse  \\\n",
       "0  store_and_fwd_flag       2.3         2  6.521528e-07         0.0   \n",
       "\n",
       "   %dt_parse   suggest  priority  \n",
       "0        0.0  category         2  "
      ],
      "text/html": [
       "<div>\n",
       "<style scoped>\n",
       "    .dataframe tbody tr th:only-of-type {\n",
       "        vertical-align: middle;\n",
       "    }\n",
       "\n",
       "    .dataframe tbody tr th {\n",
       "        vertical-align: top;\n",
       "    }\n",
       "\n",
       "    .dataframe thead th {\n",
       "        text-align: right;\n",
       "    }\n",
       "</style>\n",
       "<table border=\"1\" class=\"dataframe\">\n",
       "  <thead>\n",
       "    <tr style=\"text-align: right;\">\n",
       "      <th></th>\n",
       "      <th>name</th>\n",
       "      <th>%missing</th>\n",
       "      <th>n_unique</th>\n",
       "      <th>unique_ratio</th>\n",
       "      <th>%num_parse</th>\n",
       "      <th>%dt_parse</th>\n",
       "      <th>suggest</th>\n",
       "      <th>priority</th>\n",
       "    </tr>\n",
       "  </thead>\n",
       "  <tbody>\n",
       "    <tr>\n",
       "      <th>0</th>\n",
       "      <td>store_and_fwd_flag</td>\n",
       "      <td>2.3</td>\n",
       "      <td>2</td>\n",
       "      <td>6.521528e-07</td>\n",
       "      <td>0.0</td>\n",
       "      <td>0.0</td>\n",
       "      <td>category</td>\n",
       "      <td>2</td>\n",
       "    </tr>\n",
       "  </tbody>\n",
       "</table>\n",
       "</div>"
      ]
     },
     "metadata": {},
     "output_type": "display_data",
     "jetTransient": {
      "display_id": null
     }
    },
    {
     "name": "stdout",
     "output_type": "stream",
     "text": [
      "\n",
      "Suggested numeric: []\n",
      "Suggested datetime: []\n",
      "Category candidates: ['store_and_fwd_flag']\n"
     ]
    }
   ],
   "execution_count": 16
  },
  {
   "metadata": {
    "ExecuteTime": {
     "end_time": "2025-09-04T18:07:26.309061Z",
     "start_time": "2025-09-04T18:07:22.801950Z"
    }
   },
   "cell_type": "code",
   "source": [
    "rows, cols = df.shape\n",
    "\n",
    "pct_rows_with_any_missing = round(df.isna().any(axis=1).mean() * 100, 1)\n",
    "\n",
    "duplicates_count = int(df.duplicated(keep=\"first\").sum())\n",
    "duplicates_pct   = round(duplicates_count / rows * 100, 1)\n",
    "\n",
    "all_missing_cols_count  = len(all_missing_cols)\n",
    "constant_cols_count     = len(constant_cols)\n",
    "has_infinite_cols_count = len(infinite_cols)\n",
    "\n",
    "_top = mt.sort_values(\"%missing\", ascending=False).head(5)[[\"name\", \"%missing\"]]\n",
    "top_missing = [(r[\"name\"], float(r[\"%missing\"])) for _, r in _top.iterrows()]\n",
    "\n",
    "type_probe_counts = (\n",
    "    probe[\"suggest\"]\n",
    "    .value_counts()\n",
    "    .reindex([\"numeric\", \"datetime\", \"category\", \"free_text\"], fill_value=0)\n",
    "    .to_dict()\n",
    ")\n"
   ],
   "id": "38103ff6076b8ef8",
   "outputs": [],
   "execution_count": 18
  },
  {
   "metadata": {
    "ExecuteTime": {
     "end_time": "2025-09-04T18:07:33.081229Z",
     "start_time": "2025-09-04T18:07:33.068229Z"
    }
   },
   "cell_type": "code",
   "source": [
    "quality_summary = {\n",
    "    \"rows\": rows,\n",
    "    \"cols\": cols,\n",
    "    \"pct_rows_with_any_missing\": pct_rows_with_any_missing,\n",
    "    \"duplicates_count\": duplicates_count,\n",
    "    \"duplicates_pct\": duplicates_pct,\n",
    "    \"all_missing_cols_count\": all_missing_cols_count,\n",
    "    \"constant_cols_count\": constant_cols_count,\n",
    "    \"has_infinite_cols_count\": has_infinite_cols_count,\n",
    "    \"top_missing\": top_missing,  # list of (column, %missing)\n",
    "    \"type_probe_counts\": type_probe_counts\n",
    "}\n",
    "\n",
    "quality_summary\n"
   ],
   "id": "9d77a57cee34a44",
   "outputs": [
    {
     "data": {
      "text/plain": [
       "{'rows': 3066766,\n",
       " 'cols': 19,\n",
       " 'pct_rows_with_any_missing': np.float64(2.3),\n",
       " 'duplicates_count': 0,\n",
       " 'duplicates_pct': 0.0,\n",
       " 'all_missing_cols_count': 0,\n",
       " 'constant_cols_count': 0,\n",
       " 'has_infinite_cols_count': 0,\n",
       " 'top_missing': [('RatecodeID', 2.339),\n",
       "  ('airport_fee', 2.339),\n",
       "  ('congestion_surcharge', 2.339),\n",
       "  ('passenger_count', 2.339),\n",
       "  ('store_and_fwd_flag', 2.339)],\n",
       " 'type_probe_counts': {'numeric': 0,\n",
       "  'datetime': 0,\n",
       "  'category': 1,\n",
       "  'free_text': 0}}"
      ]
     },
     "execution_count": 19,
     "metadata": {},
     "output_type": "execute_result"
    }
   ],
   "execution_count": 19
  },
  {
   "metadata": {
    "ExecuteTime": {
     "end_time": "2025-09-04T18:07:55.743889Z",
     "start_time": "2025-09-04T18:07:55.715892Z"
    }
   },
   "cell_type": "code",
   "source": [
    "import json\n",
    "out_path = Root_dir / \"reports/tables/data_quality_summary.json\"\n",
    "out_path.parent.mkdir(parents=True, exist_ok=True)\n",
    "\n",
    "with open(out_path, \"w\") as f:\n",
    "    json.dump(quality_summary, f, indent=4)\n",
    "\n",
    "print(f\"✓ Saved: {out_path}\")\n",
    "\n",
    "# quick load-back sanity\n",
    "with open(out_path) as f:\n",
    "    loaded = json.load(f)"
   ],
   "id": "cefbd5edca286229",
   "outputs": [
    {
     "name": "stdout",
     "output_type": "stream",
     "text": [
      "✓ Saved: D:\\Portfolio\\eda-portfolio\\reports\\tables\\data_quality_summary.json\n"
     ]
    },
    {
     "data": {
      "text/plain": [
       "{'rows': 3066766,\n",
       " 'cols': 19,\n",
       " 'pct_rows_with_any_missing': 2.3,\n",
       " 'duplicates_count': 0,\n",
       " 'duplicates_pct': 0.0,\n",
       " 'all_missing_cols_count': 0,\n",
       " 'constant_cols_count': 0,\n",
       " 'has_infinite_cols_count': 0,\n",
       " 'top_missing': [['RatecodeID', 2.339],\n",
       "  ['airport_fee', 2.339],\n",
       "  ['congestion_surcharge', 2.339],\n",
       "  ['passenger_count', 2.339],\n",
       "  ['store_and_fwd_flag', 2.339]],\n",
       " 'type_probe_counts': {'numeric': 0,\n",
       "  'datetime': 0,\n",
       "  'category': 1,\n",
       "  'free_text': 0}}"
      ]
     },
     "execution_count": 20,
     "metadata": {},
     "output_type": "execute_result"
    }
   ],
   "execution_count": 20
  },
  {
   "metadata": {},
   "cell_type": "code",
   "outputs": [],
   "execution_count": null,
   "source": "",
   "id": "11bcbf081a61803a"
  }
 ],
 "metadata": {
  "kernelspec": {
   "display_name": "Python 3",
   "language": "python",
   "name": "python3"
  },
  "language_info": {
   "codemirror_mode": {
    "name": "ipython",
    "version": 2
   },
   "file_extension": ".py",
   "mimetype": "text/x-python",
   "name": "python",
   "nbconvert_exporter": "python",
   "pygments_lexer": "ipython2",
   "version": "2.7.6"
  }
 },
 "nbformat": 4,
 "nbformat_minor": 5
}
