{
 "cells": [
  {
   "metadata": {
    "ExecuteTime": {
     "end_time": "2025-09-03T12:58:32.336877Z",
     "start_time": "2025-09-03T12:58:31.411605Z"
    }
   },
   "cell_type": "code",
   "source": [
    "import json\n",
    "import os\n",
    "import pandas as pd\n",
    "import numpy as np\n",
    "from pathlib import Path\n",
    "from Scripts.pywin32_testall import project_root\n",
    "from scipy.stats import obrientransform"
   ],
   "id": "a0f7a7d388dfbbde",
   "outputs": [],
   "execution_count": 1
  },
  {
   "cell_type": "code",
   "id": "initial_id",
   "metadata": {
    "collapsed": true,
    "ExecuteTime": {
     "end_time": "2025-09-03T12:58:34.341760Z",
     "start_time": "2025-09-03T12:58:34.328759Z"
    }
   },
   "source": [
    "Root_dir = Path.cwd().parent\n",
    "data_dir = Path(Root_dir.joinpath('data/raw/tlc/yellow/2023'))\n",
    "zone_path = Path(Root_dir.joinpath('data/raw/tlc/misc/taxi_zone_lookup.csv'))\n",
    "file_1 = Path(data_dir.joinpath('yellow_tripdata_2023-01.parquet'))"
   ],
   "outputs": [],
   "execution_count": 2
  },
  {
   "metadata": {},
   "cell_type": "code",
   "outputs": [],
   "execution_count": null,
   "source": "",
   "id": "b6f76f9d4bbf13df"
  }
 ],
 "metadata": {
  "kernelspec": {
   "display_name": "Python 3",
   "language": "python",
   "name": "python3"
  },
  "language_info": {
   "codemirror_mode": {
    "name": "ipython",
    "version": 2
   },
   "file_extension": ".py",
   "mimetype": "text/x-python",
   "name": "python",
   "nbconvert_exporter": "python",
   "pygments_lexer": "ipython2",
   "version": "2.7.6"
  }
 },
 "nbformat": 4,
 "nbformat_minor": 5
}
