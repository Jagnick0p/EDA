{
 "cells": [
  {
   "cell_type": "code",
   "id": "initial_id",
   "metadata": {
    "collapsed": true,
    "ExecuteTime": {
     "end_time": "2025-09-09T16:33:24.618781Z",
     "start_time": "2025-09-09T16:33:16.135415Z"
    }
   },
   "source": [
    "import json\n",
    "import os\n",
    "import pandas as pd\n",
    "import numpy as np\n",
    "from pathlib import Path\n",
    "from PIL.ImageChops import constant\n",
    "from Scripts.pywin32_testall import project_root\n",
    "from scipy.stats import obrientransform\n",
    "import sys\n",
    "from matplotlib import pyplot as plt\n",
    "from pathlib import Path\n",
    "project_root = Path(__file__).resolve().parents[1] if \"__file__\" in globals() else Path().resolve().parent\n",
    "sys.path.append(str(project_root))\n",
    "from src.utils.eda_utils import missingness,summarize"
   ],
   "outputs": [],
   "execution_count": 3
  },
  {
   "metadata": {
    "ExecuteTime": {
     "end_time": "2025-09-09T16:33:24.645507Z",
     "start_time": "2025-09-09T16:33:24.629867Z"
    }
   },
   "cell_type": "code",
   "source": [
    "Root_dir = Path.cwd().parent\n",
    "data_dir = Path(Root_dir.joinpath('data/raw/tlc/yellow/2023'))\n",
    "zone_path = Path(Root_dir.joinpath('data/raw/tlc/misc/taxi_zone_lookup.csv'))\n",
    "file_1 = Path(data_dir.joinpath('yellow_tripdata_2023-01.parquet'))"
   ],
   "id": "88061780a1d43c20",
   "outputs": [],
   "execution_count": 4
  },
  {
   "metadata": {
    "ExecuteTime": {
     "end_time": "2025-09-09T16:33:25.650791Z",
     "start_time": "2025-09-09T16:33:24.661602Z"
    }
   },
   "cell_type": "code",
   "source": "df = pd.read_parquet(file_1)",
   "id": "28af6cc191f4c373",
   "outputs": [],
   "execution_count": 5
  },
  {
   "metadata": {
    "ExecuteTime": {
     "end_time": "2025-09-09T16:33:25.879843Z",
     "start_time": "2025-09-09T16:33:25.738662Z"
    }
   },
   "cell_type": "code",
   "source": [
    "numeric_all = df.select_dtypes(include=\"number\").columns.tolist()\n",
    "exclude_ids = [c for c in [\"VendorID\",\"RatecodeID\",\"PULocationID\",\"DOLocationID\",\"payment_type\",\"trip_type\"]\n",
    "               if c in df.columns]\n",
    "cols = [c for c in numeric_all if c not in exclude_ids]"
   ],
   "id": "7edec475ec998a3a",
   "outputs": [],
   "execution_count": 6
  },
  {
   "metadata": {
    "ExecuteTime": {
     "end_time": "2025-09-09T16:33:25.910726Z",
     "start_time": "2025-09-09T16:33:25.903764Z"
    }
   },
   "cell_type": "code",
   "source": "print(f\"Numeric columns selected: {len(cols)} (excluded IDs: {len(exclude_ids)})\")",
   "id": "60abf912c5257f66",
   "outputs": [
    {
     "name": "stdout",
     "output_type": "stream",
     "text": [
      "Numeric columns selected: 11 (excluded IDs: 5)\n"
     ]
    }
   ],
   "execution_count": 7
  },
  {
   "metadata": {
    "ExecuteTime": {
     "end_time": "2025-09-09T16:33:29.383821Z",
     "start_time": "2025-09-09T16:33:25.943878Z"
    }
   },
   "cell_type": "code",
   "source": "num_sum = summarize(df, cols)",
   "id": "5e9ff4d6261673aa",
   "outputs": [],
   "execution_count": 8
  },
  {
   "metadata": {
    "ExecuteTime": {
     "end_time": "2025-09-09T16:33:29.450231Z",
     "start_time": "2025-09-09T16:33:29.434505Z"
    }
   },
   "cell_type": "code",
   "source": [
    "out_path = Root_dir / \"reports\" / \"tables\" / \"num_summary.csv\"\n",
    "out_path.parent.mkdir(parents=True, exist_ok=True)\n",
    "num_sum.sort_values(\"name\").to_csv(out_path, index=False)"
   ],
   "id": "40feb5d54f96ff7f",
   "outputs": [],
   "execution_count": 9
  },
  {
   "metadata": {
    "ExecuteTime": {
     "end_time": "2025-09-09T16:33:29.504519Z",
     "start_time": "2025-09-09T16:33:29.458118Z"
    }
   },
   "cell_type": "code",
   "source": "df",
   "id": "dd969d99a3a25581",
   "outputs": [
    {
     "data": {
      "text/plain": [
       "         VendorID tpep_pickup_datetime tpep_dropoff_datetime  passenger_count  \\\n",
       "0               2  2023-01-01 00:32:10   2023-01-01 00:40:36              1.0   \n",
       "1               2  2023-01-01 00:55:08   2023-01-01 01:01:27              1.0   \n",
       "2               2  2023-01-01 00:25:04   2023-01-01 00:37:49              1.0   \n",
       "3               1  2023-01-01 00:03:48   2023-01-01 00:13:25              0.0   \n",
       "4               2  2023-01-01 00:10:29   2023-01-01 00:21:19              1.0   \n",
       "...           ...                  ...                   ...              ...   \n",
       "3066761         2  2023-01-31 23:58:34   2023-02-01 00:12:33              NaN   \n",
       "3066762         2  2023-01-31 23:31:09   2023-01-31 23:50:36              NaN   \n",
       "3066763         2  2023-01-31 23:01:05   2023-01-31 23:25:36              NaN   \n",
       "3066764         2  2023-01-31 23:40:00   2023-01-31 23:53:00              NaN   \n",
       "3066765         2  2023-01-31 23:07:32   2023-01-31 23:21:56              NaN   \n",
       "\n",
       "         trip_distance  RatecodeID store_and_fwd_flag  PULocationID  \\\n",
       "0                 0.97         1.0                  N           161   \n",
       "1                 1.10         1.0                  N            43   \n",
       "2                 2.51         1.0                  N            48   \n",
       "3                 1.90         1.0                  N           138   \n",
       "4                 1.43         1.0                  N           107   \n",
       "...                ...         ...                ...           ...   \n",
       "3066761           3.05         NaN               None           107   \n",
       "3066762           5.80         NaN               None           112   \n",
       "3066763           4.67         NaN               None           114   \n",
       "3066764           3.15         NaN               None           230   \n",
       "3066765           2.85         NaN               None           262   \n",
       "\n",
       "         DOLocationID  payment_type  fare_amount  extra  mta_tax  tip_amount  \\\n",
       "0                 141             2         9.30   1.00      0.5        0.00   \n",
       "1                 237             1         7.90   1.00      0.5        4.00   \n",
       "2                 238             1        14.90   1.00      0.5       15.00   \n",
       "3                   7             1        12.10   7.25      0.5        0.00   \n",
       "4                  79             1        11.40   1.00      0.5        3.28   \n",
       "...               ...           ...          ...    ...      ...         ...   \n",
       "3066761            48             0        15.80   0.00      0.5        3.96   \n",
       "3066762            75             0        22.43   0.00      0.5        2.64   \n",
       "3066763           239             0        17.61   0.00      0.5        5.32   \n",
       "3066764            79             0        18.15   0.00      0.5        4.43   \n",
       "3066765           143             0        15.97   0.00      0.5        2.00   \n",
       "\n",
       "         tolls_amount  improvement_surcharge  total_amount  \\\n",
       "0                 0.0                    1.0         14.30   \n",
       "1                 0.0                    1.0         16.90   \n",
       "2                 0.0                    1.0         34.90   \n",
       "3                 0.0                    1.0         20.85   \n",
       "4                 0.0                    1.0         19.68   \n",
       "...               ...                    ...           ...   \n",
       "3066761           0.0                    1.0         23.76   \n",
       "3066762           0.0                    1.0         29.07   \n",
       "3066763           0.0                    1.0         26.93   \n",
       "3066764           0.0                    1.0         26.58   \n",
       "3066765           0.0                    1.0         21.97   \n",
       "\n",
       "         congestion_surcharge  airport_fee  \n",
       "0                         2.5         0.00  \n",
       "1                         2.5         0.00  \n",
       "2                         2.5         0.00  \n",
       "3                         0.0         1.25  \n",
       "4                         2.5         0.00  \n",
       "...                       ...          ...  \n",
       "3066761                   NaN          NaN  \n",
       "3066762                   NaN          NaN  \n",
       "3066763                   NaN          NaN  \n",
       "3066764                   NaN          NaN  \n",
       "3066765                   NaN          NaN  \n",
       "\n",
       "[3066766 rows x 19 columns]"
      ],
      "text/html": [
       "<div>\n",
       "<style scoped>\n",
       "    .dataframe tbody tr th:only-of-type {\n",
       "        vertical-align: middle;\n",
       "    }\n",
       "\n",
       "    .dataframe tbody tr th {\n",
       "        vertical-align: top;\n",
       "    }\n",
       "\n",
       "    .dataframe thead th {\n",
       "        text-align: right;\n",
       "    }\n",
       "</style>\n",
       "<table border=\"1\" class=\"dataframe\">\n",
       "  <thead>\n",
       "    <tr style=\"text-align: right;\">\n",
       "      <th></th>\n",
       "      <th>VendorID</th>\n",
       "      <th>tpep_pickup_datetime</th>\n",
       "      <th>tpep_dropoff_datetime</th>\n",
       "      <th>passenger_count</th>\n",
       "      <th>trip_distance</th>\n",
       "      <th>RatecodeID</th>\n",
       "      <th>store_and_fwd_flag</th>\n",
       "      <th>PULocationID</th>\n",
       "      <th>DOLocationID</th>\n",
       "      <th>payment_type</th>\n",
       "      <th>fare_amount</th>\n",
       "      <th>extra</th>\n",
       "      <th>mta_tax</th>\n",
       "      <th>tip_amount</th>\n",
       "      <th>tolls_amount</th>\n",
       "      <th>improvement_surcharge</th>\n",
       "      <th>total_amount</th>\n",
       "      <th>congestion_surcharge</th>\n",
       "      <th>airport_fee</th>\n",
       "    </tr>\n",
       "  </thead>\n",
       "  <tbody>\n",
       "    <tr>\n",
       "      <th>0</th>\n",
       "      <td>2</td>\n",
       "      <td>2023-01-01 00:32:10</td>\n",
       "      <td>2023-01-01 00:40:36</td>\n",
       "      <td>1.0</td>\n",
       "      <td>0.97</td>\n",
       "      <td>1.0</td>\n",
       "      <td>N</td>\n",
       "      <td>161</td>\n",
       "      <td>141</td>\n",
       "      <td>2</td>\n",
       "      <td>9.30</td>\n",
       "      <td>1.00</td>\n",
       "      <td>0.5</td>\n",
       "      <td>0.00</td>\n",
       "      <td>0.0</td>\n",
       "      <td>1.0</td>\n",
       "      <td>14.30</td>\n",
       "      <td>2.5</td>\n",
       "      <td>0.00</td>\n",
       "    </tr>\n",
       "    <tr>\n",
       "      <th>1</th>\n",
       "      <td>2</td>\n",
       "      <td>2023-01-01 00:55:08</td>\n",
       "      <td>2023-01-01 01:01:27</td>\n",
       "      <td>1.0</td>\n",
       "      <td>1.10</td>\n",
       "      <td>1.0</td>\n",
       "      <td>N</td>\n",
       "      <td>43</td>\n",
       "      <td>237</td>\n",
       "      <td>1</td>\n",
       "      <td>7.90</td>\n",
       "      <td>1.00</td>\n",
       "      <td>0.5</td>\n",
       "      <td>4.00</td>\n",
       "      <td>0.0</td>\n",
       "      <td>1.0</td>\n",
       "      <td>16.90</td>\n",
       "      <td>2.5</td>\n",
       "      <td>0.00</td>\n",
       "    </tr>\n",
       "    <tr>\n",
       "      <th>2</th>\n",
       "      <td>2</td>\n",
       "      <td>2023-01-01 00:25:04</td>\n",
       "      <td>2023-01-01 00:37:49</td>\n",
       "      <td>1.0</td>\n",
       "      <td>2.51</td>\n",
       "      <td>1.0</td>\n",
       "      <td>N</td>\n",
       "      <td>48</td>\n",
       "      <td>238</td>\n",
       "      <td>1</td>\n",
       "      <td>14.90</td>\n",
       "      <td>1.00</td>\n",
       "      <td>0.5</td>\n",
       "      <td>15.00</td>\n",
       "      <td>0.0</td>\n",
       "      <td>1.0</td>\n",
       "      <td>34.90</td>\n",
       "      <td>2.5</td>\n",
       "      <td>0.00</td>\n",
       "    </tr>\n",
       "    <tr>\n",
       "      <th>3</th>\n",
       "      <td>1</td>\n",
       "      <td>2023-01-01 00:03:48</td>\n",
       "      <td>2023-01-01 00:13:25</td>\n",
       "      <td>0.0</td>\n",
       "      <td>1.90</td>\n",
       "      <td>1.0</td>\n",
       "      <td>N</td>\n",
       "      <td>138</td>\n",
       "      <td>7</td>\n",
       "      <td>1</td>\n",
       "      <td>12.10</td>\n",
       "      <td>7.25</td>\n",
       "      <td>0.5</td>\n",
       "      <td>0.00</td>\n",
       "      <td>0.0</td>\n",
       "      <td>1.0</td>\n",
       "      <td>20.85</td>\n",
       "      <td>0.0</td>\n",
       "      <td>1.25</td>\n",
       "    </tr>\n",
       "    <tr>\n",
       "      <th>4</th>\n",
       "      <td>2</td>\n",
       "      <td>2023-01-01 00:10:29</td>\n",
       "      <td>2023-01-01 00:21:19</td>\n",
       "      <td>1.0</td>\n",
       "      <td>1.43</td>\n",
       "      <td>1.0</td>\n",
       "      <td>N</td>\n",
       "      <td>107</td>\n",
       "      <td>79</td>\n",
       "      <td>1</td>\n",
       "      <td>11.40</td>\n",
       "      <td>1.00</td>\n",
       "      <td>0.5</td>\n",
       "      <td>3.28</td>\n",
       "      <td>0.0</td>\n",
       "      <td>1.0</td>\n",
       "      <td>19.68</td>\n",
       "      <td>2.5</td>\n",
       "      <td>0.00</td>\n",
       "    </tr>\n",
       "    <tr>\n",
       "      <th>...</th>\n",
       "      <td>...</td>\n",
       "      <td>...</td>\n",
       "      <td>...</td>\n",
       "      <td>...</td>\n",
       "      <td>...</td>\n",
       "      <td>...</td>\n",
       "      <td>...</td>\n",
       "      <td>...</td>\n",
       "      <td>...</td>\n",
       "      <td>...</td>\n",
       "      <td>...</td>\n",
       "      <td>...</td>\n",
       "      <td>...</td>\n",
       "      <td>...</td>\n",
       "      <td>...</td>\n",
       "      <td>...</td>\n",
       "      <td>...</td>\n",
       "      <td>...</td>\n",
       "      <td>...</td>\n",
       "    </tr>\n",
       "    <tr>\n",
       "      <th>3066761</th>\n",
       "      <td>2</td>\n",
       "      <td>2023-01-31 23:58:34</td>\n",
       "      <td>2023-02-01 00:12:33</td>\n",
       "      <td>NaN</td>\n",
       "      <td>3.05</td>\n",
       "      <td>NaN</td>\n",
       "      <td>None</td>\n",
       "      <td>107</td>\n",
       "      <td>48</td>\n",
       "      <td>0</td>\n",
       "      <td>15.80</td>\n",
       "      <td>0.00</td>\n",
       "      <td>0.5</td>\n",
       "      <td>3.96</td>\n",
       "      <td>0.0</td>\n",
       "      <td>1.0</td>\n",
       "      <td>23.76</td>\n",
       "      <td>NaN</td>\n",
       "      <td>NaN</td>\n",
       "    </tr>\n",
       "    <tr>\n",
       "      <th>3066762</th>\n",
       "      <td>2</td>\n",
       "      <td>2023-01-31 23:31:09</td>\n",
       "      <td>2023-01-31 23:50:36</td>\n",
       "      <td>NaN</td>\n",
       "      <td>5.80</td>\n",
       "      <td>NaN</td>\n",
       "      <td>None</td>\n",
       "      <td>112</td>\n",
       "      <td>75</td>\n",
       "      <td>0</td>\n",
       "      <td>22.43</td>\n",
       "      <td>0.00</td>\n",
       "      <td>0.5</td>\n",
       "      <td>2.64</td>\n",
       "      <td>0.0</td>\n",
       "      <td>1.0</td>\n",
       "      <td>29.07</td>\n",
       "      <td>NaN</td>\n",
       "      <td>NaN</td>\n",
       "    </tr>\n",
       "    <tr>\n",
       "      <th>3066763</th>\n",
       "      <td>2</td>\n",
       "      <td>2023-01-31 23:01:05</td>\n",
       "      <td>2023-01-31 23:25:36</td>\n",
       "      <td>NaN</td>\n",
       "      <td>4.67</td>\n",
       "      <td>NaN</td>\n",
       "      <td>None</td>\n",
       "      <td>114</td>\n",
       "      <td>239</td>\n",
       "      <td>0</td>\n",
       "      <td>17.61</td>\n",
       "      <td>0.00</td>\n",
       "      <td>0.5</td>\n",
       "      <td>5.32</td>\n",
       "      <td>0.0</td>\n",
       "      <td>1.0</td>\n",
       "      <td>26.93</td>\n",
       "      <td>NaN</td>\n",
       "      <td>NaN</td>\n",
       "    </tr>\n",
       "    <tr>\n",
       "      <th>3066764</th>\n",
       "      <td>2</td>\n",
       "      <td>2023-01-31 23:40:00</td>\n",
       "      <td>2023-01-31 23:53:00</td>\n",
       "      <td>NaN</td>\n",
       "      <td>3.15</td>\n",
       "      <td>NaN</td>\n",
       "      <td>None</td>\n",
       "      <td>230</td>\n",
       "      <td>79</td>\n",
       "      <td>0</td>\n",
       "      <td>18.15</td>\n",
       "      <td>0.00</td>\n",
       "      <td>0.5</td>\n",
       "      <td>4.43</td>\n",
       "      <td>0.0</td>\n",
       "      <td>1.0</td>\n",
       "      <td>26.58</td>\n",
       "      <td>NaN</td>\n",
       "      <td>NaN</td>\n",
       "    </tr>\n",
       "    <tr>\n",
       "      <th>3066765</th>\n",
       "      <td>2</td>\n",
       "      <td>2023-01-31 23:07:32</td>\n",
       "      <td>2023-01-31 23:21:56</td>\n",
       "      <td>NaN</td>\n",
       "      <td>2.85</td>\n",
       "      <td>NaN</td>\n",
       "      <td>None</td>\n",
       "      <td>262</td>\n",
       "      <td>143</td>\n",
       "      <td>0</td>\n",
       "      <td>15.97</td>\n",
       "      <td>0.00</td>\n",
       "      <td>0.5</td>\n",
       "      <td>2.00</td>\n",
       "      <td>0.0</td>\n",
       "      <td>1.0</td>\n",
       "      <td>21.97</td>\n",
       "      <td>NaN</td>\n",
       "      <td>NaN</td>\n",
       "    </tr>\n",
       "  </tbody>\n",
       "</table>\n",
       "<p>3066766 rows × 19 columns</p>\n",
       "</div>"
      ]
     },
     "execution_count": 10,
     "metadata": {},
     "output_type": "execute_result"
    }
   ],
   "execution_count": 10
  },
  {
   "metadata": {
    "ExecuteTime": {
     "end_time": "2025-09-09T16:33:29.672130Z",
     "start_time": "2025-09-09T16:33:29.592307Z"
    }
   },
   "cell_type": "code",
   "source": [
    "plot_distance = df['trip_distance'].dropna().astype(float)\n",
    "n = len(plot_distance)\n",
    "q25 , q75 = np.percentile(plot_distance, [25, 75])\n",
    "iqr = float(q75 - q25)\n",
    "h = float (2 * iqr * (n ** (-1/3)))\n",
    "lo = q25 - 1.5*iqr\n",
    "hi = q75 + 1.5*iqr"
   ],
   "id": "8a963fd9935ccfc6",
   "outputs": [],
   "execution_count": 11
  },
  {
   "metadata": {
    "ExecuteTime": {
     "end_time": "2025-09-09T16:33:29.790149Z",
     "start_time": "2025-09-09T16:33:29.746832Z"
    }
   },
   "cell_type": "code",
   "source": [
    "p1, p99 = np.percentile(plot_distance, [1, 99])\n",
    "if not np.isfinite(p1) or not np.isfinite(p99) or p99 <= p1:\n",
    "    p1, p99 = float(plot_distance.min()), float(plot_distance.max())"
   ],
   "id": "4f96fbc83f19b191",
   "outputs": [],
   "execution_count": 12
  },
  {
   "metadata": {
    "ExecuteTime": {
     "end_time": "2025-09-09T16:33:29.817489Z",
     "start_time": "2025-09-09T16:33:29.801855Z"
    }
   },
   "cell_type": "code",
   "source": [
    "if iqr <= 0 or h <= 0:\n",
    "    bins = int(np.ceil(1 + np.log2(plot_distance)))\n",
    "else:\n",
    "    bins = int(np.ceil((p99 - p1) / h))\n",
    "bins = max(10, min(bins, 200))"
   ],
   "id": "ce270a04ce975b6b",
   "outputs": [],
   "execution_count": 13
  },
  {
   "metadata": {
    "ExecuteTime": {
     "end_time": "2025-09-09T16:33:29.906028Z",
     "start_time": "2025-09-09T16:33:29.890384Z"
    }
   },
   "cell_type": "code",
   "source": [
    "fig_dir = Root_dir / \"reports\" / \"figures\"\n",
    "fig_dir.mkdir(parents=True, exist_ok=True)\n",
    "png_linear = fig_dir / \"hist_trip_distance_fd.png\"\n",
    "png_logx  = fig_dir / \"hist_trip_distance_fd_logx.png\"\n",
    "fig_dir"
   ],
   "id": "d5350129c61e8ccd",
   "outputs": [
    {
     "data": {
      "text/plain": [
       "WindowsPath('D:/Portfolio/eda-portfolio/reports/figures')"
      ]
     },
     "execution_count": 14,
     "metadata": {},
     "output_type": "execute_result"
    }
   ],
   "execution_count": 14
  },
  {
   "metadata": {
    "ExecuteTime": {
     "end_time": "2025-09-09T16:33:30.614152Z",
     "start_time": "2025-09-09T16:33:29.929703Z"
    }
   },
   "cell_type": "code",
   "source": [
    "plt.figure(figsize=(10, 6))\n",
    "plt.hist(plot_distance, bins=bins, range=(p1, p99))\n",
    "plt.title(\"Trip Distance — FD bins (trimmed to 1–99th pct)\")\n",
    "plt.xlabel(\"miles\")\n",
    "plt.ylabel(\"count\")\n",
    "plt.tight_layout()\n",
    "plt.savefig(png_linear, dpi=120)\n",
    "plt.show()"
   ],
   "id": "3b7e8d154be09245",
   "outputs": [
    {
     "data": {
      "text/plain": [
       "<Figure size 1000x600 with 1 Axes>"
      ],
      "image/png": "[encoded data removed]"
     },
     "metadata": {},
     "output_type": "display_data",
     "jetTransient": {
      "display_id": null
     }
    }
   ],
   "execution_count": 15
  },
  {
   "metadata": {
    "ExecuteTime": {
     "end_time": "2025-09-09T16:33:31.679235Z",
     "start_time": "2025-09-09T16:33:30.656252Z"
    }
   },
   "cell_type": "code",
   "source": [
    "p1_log = max(p1, 1e-3)\n",
    "plt.figure(figsize=(10, 6))\n",
    "plt.hist(plot_distance, bins=bins, range=(p1_log, p99))\n",
    "plt.xscale(\"log\")\n",
    "plt.title(\"Trip Distance — FD bins (log-x, trimmed to 1–99th pct)\")\n",
    "plt.xlabel(\"miles (log scale)\")\n",
    "plt.ylabel(\"count\")\n",
    "plt.tight_layout()\n",
    "plt.savefig(png_logx, dpi=120)\n",
    "plt.show()"
   ],
   "id": "95e2f0fc97788bb",
   "outputs": [
    {
     "data": {
      "text/plain": [
       "<Figure size 1000x600 with 1 Axes>"
      ],
      "image/png": "[encoded data removed]"
     },
     "metadata": {},
     "output_type": "display_data",
     "jetTransient": {
      "display_id": null
     }
    }
   ],
   "execution_count": 16
  },
  {
   "metadata": {
    "ExecuteTime": {
     "end_time": "2025-09-09T16:33:31.817842Z",
     "start_time": "2025-09-09T16:33:31.802176Z"
    }
   },
   "cell_type": "code",
   "source": [
    "num_outlier = (plot_distance < lo) | (plot_distance > hi)\n",
    "num_outlier_trip_distance = num_outlier.sum()\n",
    "pct_outlier_among_non_missing = num_outlier_trip_distance / plot_distance.size * 100\n",
    "pct_outlier_all = num_outlier_trip_distance / df.shape[0] * 100"
   ],
   "id": "7b876dde8393c9cf",
   "outputs": [],
   "execution_count": 17
  },
  {
   "metadata": {
    "ExecuteTime": {
     "end_time": "2025-09-09T16:33:31.833047Z",
     "start_time": "2025-09-09T16:33:31.827048Z"
    }
   },
   "cell_type": "code",
   "source": "print(pct_outlier_among_non_missing , pct_outlier_all )",
   "id": "809f03f9f1bbbdad",
   "outputs": [
    {
     "name": "stdout",
     "output_type": "stream",
     "text": [
      "12.724935648823548 12.724935648823548\n"
     ]
    }
   ],
   "execution_count": 18
  },
  {
   "metadata": {
    "ExecuteTime": {
     "end_time": "2025-09-09T16:33:31.930196Z",
     "start_time": "2025-09-09T16:33:31.851862Z"
    }
   },
   "cell_type": "code",
   "source": [
    "sample_mean = plot_distance.mean()\n",
    "sample_std = plot_distance.std(ddof=1)\n",
    "if sample_std == 0 or plot_distance.size < 2 or not np.isfinite(sample_std):\n",
    "    mask_z = pd.series.isna(False, index=plot_distance.index)\n",
    "else:\n",
    "    z = (plot_distance - sample_mean) / sample_std\n",
    "    mask_z = z.abs() > 3.0\n",
    "\n",
    "n_z = int(mask_z.sum())\n",
    "pct_z_non_missing = 100 * n_z / plot_distance.size\n",
    "pct_z_all         = 100 * n_z / len(df)"
   ],
   "id": "ff6333e064471f7a",
   "outputs": [],
   "execution_count": 19
  },
  {
   "metadata": {
    "ExecuteTime": {
     "end_time": "2025-09-09T16:33:31.945389Z",
     "start_time": "2025-09-09T16:33:31.940392Z"
    }
   },
   "cell_type": "code",
   "source": [
    "print(f\"mean={sample_mean:.3f}, std={sample_std:.3f}, thr={3.0}\")\n",
    "print(f\"z-outliers: {n_z}  |  {pct_z_non_missing:.3f}% of non-missing  |  {pct_z_all:.3f}% of all rows\")"
   ],
   "id": "d38091dc16c6fddd",
   "outputs": [
    {
     "name": "stdout",
     "output_type": "stream",
     "text": [
      "mean=3.847, std=249.584, thr=3.0\n",
      "z-outliers: 67  |  0.002% of non-missing  |  0.002% of all rows\n"
     ]
    }
   ],
   "execution_count": 20
  },
  {
   "metadata": {
    "ExecuteTime": {
     "end_time": "2025-09-09T16:33:32.019097Z",
     "start_time": "2025-09-09T16:33:31.983491Z"
    }
   },
   "cell_type": "code",
   "source": [
    "x_all = df[\"trip_distance\"].astype(float)\n",
    "x = x_all.dropna()\n",
    "n_all = len(x_all)\n",
    "n_nonmiss = len(x)"
   ],
   "id": "52f2a8030ac38e53",
   "outputs": [],
   "execution_count": 21
  },
  {
   "metadata": {
    "ExecuteTime": {
     "end_time": "2025-09-09T16:33:32.120441Z",
     "start_time": "2025-09-09T16:33:32.057933Z"
    }
   },
   "cell_type": "code",
   "source": [
    "q1, q3 = np.percentile(x, [25, 75])\n",
    "iqr = q3 - q1\n",
    "lo = q1 - 1.5 * iqr\n",
    "hi = q3 + 1.5 * iqr\n",
    "mask_iqr = (x < lo) | (x > hi)\n",
    "n_iqr = int(mask_iqr.sum())\n",
    "pct_iqr_nm = 100 * n_iqr / n_nonmiss\n",
    "pct_iqr_all = 100 * n_iqr / n_all"
   ],
   "id": "7c432c953b36488b",
   "outputs": [],
   "execution_count": 22
  },
  {
   "metadata": {
    "ExecuteTime": {
     "end_time": "2025-09-09T16:33:32.291402Z",
     "start_time": "2025-09-09T16:33:32.140918Z"
    }
   },
   "cell_type": "code",
   "source": [
    "q1, q3 = np.percentile(x, [25, 75])\n",
    "iqr = q3 - q1\n",
    "lo = q1 - 1.5 * iqr\n",
    "hi = q3 + 1.5 * iqr\n",
    "mask_iqr = (x < lo) | (x > hi)\n",
    "n_iqr = int(mask_iqr.sum())\n",
    "pct_iqr_nm = 100 * n_iqr / n_nonmiss\n",
    "pct_iqr_all = 100 * n_iqr / n_all\n",
    "\n",
    "# 2) z-score fences & counts (thr=3)\n",
    "thr = 3.0\n",
    "mean = float(x.mean())\n",
    "std = float(x.std(ddof=1))\n",
    "if (not np.isfinite(std)) or (std == 0) or (n_nonmiss < 2):\n",
    "    n_z = 0\n",
    "    lo_z = np.nan\n",
    "    hi_z = np.nan\n",
    "else:\n",
    "    z = (x - mean) / std\n",
    "    mask_z = z.abs() > thr\n",
    "    n_z = int(mask_z.sum())\n",
    "    lo_z = mean - thr * std\n",
    "    hi_z = mean + thr * std\n",
    "pct_z_nm = 100 * n_z / n_nonmiss if n_nonmiss else 0.0\n",
    "pct_z_all = 100 * n_z / n_all if n_all else 0.0"
   ],
   "id": "40e4967057677586",
   "outputs": [],
   "execution_count": 23
  },
  {
   "metadata": {
    "ExecuteTime": {
     "end_time": "2025-09-09T16:33:32.322110Z",
     "start_time": "2025-09-09T16:33:32.306322Z"
    }
   },
   "cell_type": "code",
   "source": [
    "out_df = pd.DataFrame([\n",
    "    {\"feature\":\"trip_distance\",\"method\":\"IQR\",\"lower_fence\":lo,\"upper_fence\":hi,\n",
    "     \"n_outliers\":n_iqr,\"pct_non_missing\":pct_iqr_nm,\"pct_all\":pct_iqr_all},\n",
    "    {\"feature\":\"trip_distance\",\"method\":\"zscore\",\"lower_fence\":lo_z,\"upper_fence\":hi_z,\n",
    "     \"n_outliers\":n_z,\"pct_non_missing\":pct_z_nm,\"pct_all\":pct_z_all}\n",
    "])\n",
    "\n",
    "Root_dir = globals().get(\"Root_dir\", Path.cwd().parent)\n",
    "out_path = Root_dir / \"reports\" / \"tables\" / \"outlier_trip_distance.csv\"\n",
    "out_path.parent.mkdir(parents=True, exist_ok=True)\n",
    "out_df.to_csv(out_path, index=False)"
   ],
   "id": "9b7ec3a823c4ee1b",
   "outputs": [],
   "execution_count": 24
  },
  {
   "metadata": {
    "ExecuteTime": {
     "end_time": "2025-09-09T16:33:32.461784Z",
     "start_time": "2025-09-09T16:33:32.336145Z"
    }
   },
   "cell_type": "code",
   "source": [
    "q1, q3 = np.percentile(x, [25, 75])\n",
    "iqr = q3 - q1\n",
    "lo = q1 - 3.0 * iqr\n",
    "hi = q3 + 3.0 * iqr\n",
    "mask_iqr = (x < lo) | (x > hi)\n",
    "n_iqr = int(mask_iqr.sum())\n",
    "pct_iqr_nm = 100 * n_iqr / n_nonmiss\n",
    "pct_iqr_all = 100 * n_iqr / n_all\n",
    "\n",
    "# 2) z-score fences & counts (thr=3)\n",
    "thr = 3.0\n",
    "mean = float(x.mean())\n",
    "std = float(x.std(ddof=1))\n",
    "if (not np.isfinite(std)) or (std == 0) or (n_nonmiss < 2):\n",
    "    n_z = 0\n",
    "    lo_z = np.nan\n",
    "    hi_z = np.nan\n",
    "else:\n",
    "    z = (x - mean) / std\n",
    "    mask_z = z.abs() > thr\n",
    "    n_z = int(mask_z.sum())\n",
    "    lo_z = mean - thr * std\n",
    "    hi_z = mean + thr * std\n",
    "pct_z_nm = 100 * n_z / n_nonmiss if n_nonmiss else 0.0\n",
    "pct_z_all = 100 * n_z / n_all if n_all else 0.0"
   ],
   "id": "a53c2e6ad63e15e8",
   "outputs": [],
   "execution_count": 25
  },
  {
   "metadata": {
    "ExecuteTime": {
     "end_time": "2025-09-09T16:33:32.482724Z",
     "start_time": "2025-09-09T16:33:32.468443Z"
    }
   },
   "cell_type": "code",
   "source": [
    "out_df = pd.DataFrame([\n",
    "    {\"feature\":\"trip_distance\",\"method\":\"IQR\",\"lower_fence\":lo,\"upper_fence\":hi,\n",
    "     \"n_outliers\":n_iqr,\"pct_non_missing\":pct_iqr_nm,\"pct_all\":pct_iqr_all},\n",
    "    {\"feature\":\"trip_distance\",\"method\":\"zscore\",\"lower_fence\":lo_z,\"upper_fence\":hi_z,\n",
    "     \"n_outliers\":n_z,\"pct_non_missing\":pct_z_nm,\"pct_all\":pct_z_all}\n",
    "])\n",
    "\n",
    "Root_dir = globals().get(\"Root_dir\", Path.cwd().parent)\n",
    "out_path = Root_dir / \"reports\" / \"tables\" / \"outlier_trip_distance_w_3.csv\"\n",
    "out_path.parent.mkdir(parents=True, exist_ok=True)\n",
    "out_df.to_csv(out_path, index=False)"
   ],
   "id": "2d2cd078b33bbac6",
   "outputs": [],
   "execution_count": 26
  },
  {
   "metadata": {
    "ExecuteTime": {
     "end_time": "2025-09-09T16:33:32.540472Z",
     "start_time": "2025-09-09T16:33:32.501723Z"
    }
   },
   "cell_type": "code",
   "source": [
    "x_all = df[\"trip_distance\"].astype(float)\n",
    "x = x_all.dropna()\n",
    "n_all = len(x_all)\n",
    "n_nonmiss = len(x)"
   ],
   "id": "2180ef3db695c386",
   "outputs": [],
   "execution_count": 27
  },
  {
   "metadata": {
    "ExecuteTime": {
     "end_time": "2025-09-09T16:33:46.042971Z",
     "start_time": "2025-09-09T16:33:45.995702Z"
    }
   },
   "cell_type": "code",
   "source": [
    "p99, p995, p999 = np.percentile(x, [99, 99.5, 99.9])\n",
    "tail_thr = max(50.0, p995)"
   ],
   "id": "14934ebf84d9b4d7",
   "outputs": [],
   "execution_count": 28
  },
  {
   "metadata": {
    "ExecuteTime": {
     "end_time": "2025-09-09T16:33:54.057923Z",
     "start_time": "2025-09-09T16:33:54.042294Z"
    }
   },
   "cell_type": "code",
   "source": [
    "mask_tail = x > tail_thr\n",
    "n_tail = int(mask_tail.sum())\n",
    "pct_tail_nm = 100 * n_tail / n_nonmiss\n",
    "pct_tail_all = 100 * n_tail / n_all"
   ],
   "id": "8b5e57cb3d7097fa",
   "outputs": [],
   "execution_count": 29
  },
  {
   "metadata": {
    "ExecuteTime": {
     "end_time": "2025-09-09T16:34:07.617141Z",
     "start_time": "2025-09-09T16:34:07.601510Z"
    }
   },
   "cell_type": "code",
   "source": [
    "print(f\"p99={p99:.3f} | p99.5={p995:.3f} | p99.9={p999:.3f} | tail_thr={tail_thr:.3f}\")\n",
    "print(f\"tail outliers: {n_tail}  |  {pct_tail_nm:.3f}% of non-missing  |  {pct_tail_all:.3f}% of all rows\")\n"
   ],
   "id": "4500526bee4dd7e7",
   "outputs": [
    {
     "name": "stdout",
     "output_type": "stream",
     "text": [
      "p99=20.060 | p99.5=21.500 | p99.9=28.800 | tail_thr=50.000\n",
      "tail outliers: 387  |  0.013% of non-missing  |  0.013% of all rows\n"
     ]
    }
   ],
   "execution_count": 30
  },
  {
   "metadata": {
    "ExecuteTime": {
     "end_time": "2025-09-09T16:37:28.955307Z",
     "start_time": "2025-09-09T16:37:28.908276Z"
    }
   },
   "cell_type": "code",
   "source": [
    "out_cols = [\"feature\",\"method\",\"lower_fence\",\"upper_fence\",\"n_outliers\",\"pct_non_missing\",\"pct_all\"]\n",
    "new_row = pd.DataFrame([{\n",
    "    \"feature\": \"trip_distance\",\n",
    "    \"method\": \"quantile_99.5\",\n",
    "    \"lower_fence\": np.nan,\n",
    "    \"upper_fence\": float(tail_thr),\n",
    "    \"n_outliers\": n_tail,\n",
    "    \"pct_non_missing\": pct_tail_nm,\n",
    "    \"pct_all\": pct_tail_all\n",
    "}], columns=out_cols)\n",
    "\n",
    "out_path = Root_dir / \"reports\" / \"tables\" / \"outlier_trip_distance.csv\"\n",
    "out_path.parent.mkdir(parents=True, exist_ok=True)\n",
    "if out_path.exists():\n",
    "    prev = pd.read_csv(out_path)\n",
    "    # align columns in case of different order\n",
    "    prev = prev.reindex(columns=out_cols)\n",
    "    out_df = pd.concat([prev, new_row], ignore_index=True)\n",
    "else:\n",
    "    out_df = new_row\n",
    "\n",
    "out_df.to_csv(out_path, index=False)\n",
    "out_df.tail(3)"
   ],
   "id": "2d9b32bcdc8e16a9",
   "outputs": [
    {
     "data": {
      "text/plain": [
       "         feature         method  lower_fence  upper_fence  n_outliers  \\\n",
       "0  trip_distance            IQR    -2.345000      6.73500      390244   \n",
       "1  trip_distance         zscore  -744.903926    752.59861          67   \n",
       "2  trip_distance  quantile_99.5          NaN     50.00000         387   \n",
       "\n",
       "   pct_non_missing    pct_all  \n",
       "0        12.724936  12.724936  \n",
       "1         0.002185   0.002185  \n",
       "2         0.012619   0.012619  "
      ],
      "text/html": [
       "<div>\n",
       "<style scoped>\n",
       "    .dataframe tbody tr th:only-of-type {\n",
       "        vertical-align: middle;\n",
       "    }\n",
       "\n",
       "    .dataframe tbody tr th {\n",
       "        vertical-align: top;\n",
       "    }\n",
       "\n",
       "    .dataframe thead th {\n",
       "        text-align: right;\n",
       "    }\n",
       "</style>\n",
       "<table border=\"1\" class=\"dataframe\">\n",
       "  <thead>\n",
       "    <tr style=\"text-align: right;\">\n",
       "      <th></th>\n",
       "      <th>feature</th>\n",
       "      <th>method</th>\n",
       "      <th>lower_fence</th>\n",
       "      <th>upper_fence</th>\n",
       "      <th>n_outliers</th>\n",
       "      <th>pct_non_missing</th>\n",
       "      <th>pct_all</th>\n",
       "    </tr>\n",
       "  </thead>\n",
       "  <tbody>\n",
       "    <tr>\n",
       "      <th>0</th>\n",
       "      <td>trip_distance</td>\n",
       "      <td>IQR</td>\n",
       "      <td>-2.345000</td>\n",
       "      <td>6.73500</td>\n",
       "      <td>390244</td>\n",
       "      <td>12.724936</td>\n",
       "      <td>12.724936</td>\n",
       "    </tr>\n",
       "    <tr>\n",
       "      <th>1</th>\n",
       "      <td>trip_distance</td>\n",
       "      <td>zscore</td>\n",
       "      <td>-744.903926</td>\n",
       "      <td>752.59861</td>\n",
       "      <td>67</td>\n",
       "      <td>0.002185</td>\n",
       "      <td>0.002185</td>\n",
       "    </tr>\n",
       "    <tr>\n",
       "      <th>2</th>\n",
       "      <td>trip_distance</td>\n",
       "      <td>quantile_99.5</td>\n",
       "      <td>NaN</td>\n",
       "      <td>50.00000</td>\n",
       "      <td>387</td>\n",
       "      <td>0.012619</td>\n",
       "      <td>0.012619</td>\n",
       "    </tr>\n",
       "  </tbody>\n",
       "</table>\n",
       "</div>"
      ]
     },
     "execution_count": 31,
     "metadata": {},
     "output_type": "execute_result"
    }
   ],
   "execution_count": 31
  },
  {
   "metadata": {
    "ExecuteTime": {
     "end_time": "2025-09-09T17:07:34.368555Z",
     "start_time": "2025-09-09T17:07:34.352908Z"
    }
   },
   "cell_type": "code",
   "source": [
    "s_all = df[\"trip_distance\"].astype(float)\n",
    "n_all = len(s_all)\n"
   ],
   "id": "63e9e42ca90428ff",
   "outputs": [],
   "execution_count": 32
  },
  {
   "metadata": {
    "ExecuteTime": {
     "end_time": "2025-09-09T17:07:35.976340Z",
     "start_time": "2025-09-09T17:07:35.944957Z"
    }
   },
   "cell_type": "code",
   "source": [
    "s = s_all.dropna()\n",
    "n_nonmiss = len(s)"
   ],
   "id": "8a646017812a8f66",
   "outputs": [],
   "execution_count": 33
  },
  {
   "metadata": {
    "ExecuteTime": {
     "end_time": "2025-09-09T17:07:43.509761Z",
     "start_time": "2025-09-09T17:07:43.448236Z"
    }
   },
   "cell_type": "code",
   "source": [
    "s_nonneg = s.clip(lower=0.0)\n",
    "x = np.log1p(s_nonneg)"
   ],
   "id": "ddd92da3f9aad8e9",
   "outputs": [],
   "execution_count": 34
  },
  {
   "metadata": {
    "ExecuteTime": {
     "end_time": "2025-09-09T17:08:42.871054Z",
     "start_time": "2025-09-09T17:08:42.807888Z"
    }
   },
   "cell_type": "code",
   "source": [
    "q1, q3 = np.percentile(x, [25, 75])\n",
    "iqr = q3 - q1\n",
    "k = 1.5"
   ],
   "id": "3406b5ebb9087ef2",
   "outputs": [],
   "execution_count": 35
  },
  {
   "metadata": {
    "ExecuteTime": {
     "end_time": "2025-09-09T17:09:14.164036Z",
     "start_time": "2025-09-09T17:09:14.141039Z"
    }
   },
   "cell_type": "code",
   "source": [
    "if iqr <= 0 or not np.isfinite(iqr):\n",
    "    # degenerate case: no spread → no outliers by this rule\n",
    "    lo_log = np.nan\n",
    "    hi_log = np.nan\n",
    "    lo = np.nan\n",
    "    hi = np.nan\n",
    "    mask_logiqr = pd.Series(False, index=s.index)\n",
    "else:\n",
    "    lo_log = q1 - k * iqr\n",
    "    hi_log = q3 + k * iqr\n",
    "    # map fences back to miles\n",
    "    lo = float(np.expm1(lo_log))\n",
    "    hi = float(np.expm1(hi_log))\n",
    "    mask_logiqr = (s < lo) | (s > hi)"
   ],
   "id": "a083a68630e1ad8d",
   "outputs": [],
   "execution_count": 36
  },
  {
   "metadata": {
    "ExecuteTime": {
     "end_time": "2025-09-09T17:09:26.074943Z",
     "start_time": "2025-09-09T17:09:26.060942Z"
    }
   },
   "cell_type": "code",
   "source": [
    "n_logiqr = int(mask_logiqr.sum())\n",
    "pct_logiqr_nm = 100 * n_logiqr / n_nonmiss\n",
    "pct_logiqr_all = 100 * n_logiqr / n_all\n",
    "\n",
    "print(f\"log-IQR fences (k={k}):\")\n",
    "print(f\"  Q1_log={q1:.4f}, Q3_log={q3:.4f}, IQR_log={iqr:.4f}\")\n",
    "print(f\"  lower={lo:.3f} mi, upper={hi:.3f} mi\")\n",
    "print(f\"Outliers (log-IQR): {n_logiqr}  |  {pct_logiqr_nm:.3f}% of non-missing  |  {pct_logiqr_all:.3f}% of all rows\")\n"
   ],
   "id": "c414cece16f9910e",
   "outputs": [
    {
     "name": "stdout",
     "output_type": "stream",
     "text": [
      "log-IQR fences (k=1.5):\n",
      "  Q1_log=0.7227, Q3_log=1.4656, IQR_log=0.7429\n",
      "  lower=-0.324 mi, upper=12.195 mi\n",
      "Outliers (log-IQR): 178375  |  5.816% of non-missing  |  5.816% of all rows\n"
     ]
    }
   ],
   "execution_count": 37
  },
  {
   "metadata": {
    "ExecuteTime": {
     "end_time": "2025-09-09T17:16:14.610553Z",
     "start_time": "2025-09-09T17:16:14.578269Z"
    }
   },
   "cell_type": "code",
   "source": [
    "new_row = pd.DataFrame([{\n",
    "    \"feature\": \"trip_distance\",\n",
    "    \"method\": \"logIQR_k1.5\",\n",
    "    \"lower_fence\": lo,\n",
    "    \"upper_fence\": hi,\n",
    "    \"n_outliers\": n_logiqr,\n",
    "    \"pct_non_missing\": pct_logiqr_nm,\n",
    "    \"pct_all\": pct_logiqr_all\n",
    "}])\n",
    "\n",
    "if out_path.exists():\n",
    "    prev = pd.read_csv(out_path)\n",
    "    # align columns if order differs\n",
    "    cols = [\"feature\",\"method\",\"lower_fence\",\"upper_fence\",\"n_outliers\",\"pct_non_missing\",\"pct_all\"]\n",
    "    prev = prev.reindex(columns=cols)\n",
    "    out_df = pd.concat([prev, new_row], ignore_index=True)\n",
    "else:\n",
    "    out_df = new_row\n",
    "\n",
    "out_df.to_csv(out_path, index=False)\n",
    "print(f\"✓ Appended log-IQR row → {out_path}  |  rows={out_df.shape[0]}\")\n",
    "out_df.tail(3)"
   ],
   "id": "fc0fd978d9a7c4d1",
   "outputs": [
    {
     "name": "stdout",
     "output_type": "stream",
     "text": [
      "✓ Appended log-IQR row → D:\\Portfolio\\eda-portfolio\\reports\\tables\\outlier_trip_distance.csv  |  rows=4\n"
     ]
    },
    {
     "data": {
      "text/plain": [
       "         feature         method  lower_fence  upper_fence  n_outliers  \\\n",
       "1  trip_distance         zscore  -744.903926   752.598610          67   \n",
       "2  trip_distance  quantile_99.5          NaN    50.000000         387   \n",
       "3  trip_distance    logIQR_k1.5    -0.324016    12.195289      178375   \n",
       "\n",
       "   pct_non_missing   pct_all  \n",
       "1         0.002185  0.002185  \n",
       "2         0.012619  0.012619  \n",
       "3         5.816388  5.816388  "
      ],
      "text/html": [
       "<div>\n",
       "<style scoped>\n",
       "    .dataframe tbody tr th:only-of-type {\n",
       "        vertical-align: middle;\n",
       "    }\n",
       "\n",
       "    .dataframe tbody tr th {\n",
       "        vertical-align: top;\n",
       "    }\n",
       "\n",
       "    .dataframe thead th {\n",
       "        text-align: right;\n",
       "    }\n",
       "</style>\n",
       "<table border=\"1\" class=\"dataframe\">\n",
       "  <thead>\n",
       "    <tr style=\"text-align: right;\">\n",
       "      <th></th>\n",
       "      <th>feature</th>\n",
       "      <th>method</th>\n",
       "      <th>lower_fence</th>\n",
       "      <th>upper_fence</th>\n",
       "      <th>n_outliers</th>\n",
       "      <th>pct_non_missing</th>\n",
       "      <th>pct_all</th>\n",
       "    </tr>\n",
       "  </thead>\n",
       "  <tbody>\n",
       "    <tr>\n",
       "      <th>1</th>\n",
       "      <td>trip_distance</td>\n",
       "      <td>zscore</td>\n",
       "      <td>-744.903926</td>\n",
       "      <td>752.598610</td>\n",
       "      <td>67</td>\n",
       "      <td>0.002185</td>\n",
       "      <td>0.002185</td>\n",
       "    </tr>\n",
       "    <tr>\n",
       "      <th>2</th>\n",
       "      <td>trip_distance</td>\n",
       "      <td>quantile_99.5</td>\n",
       "      <td>NaN</td>\n",
       "      <td>50.000000</td>\n",
       "      <td>387</td>\n",
       "      <td>0.012619</td>\n",
       "      <td>0.012619</td>\n",
       "    </tr>\n",
       "    <tr>\n",
       "      <th>3</th>\n",
       "      <td>trip_distance</td>\n",
       "      <td>logIQR_k1.5</td>\n",
       "      <td>-0.324016</td>\n",
       "      <td>12.195289</td>\n",
       "      <td>178375</td>\n",
       "      <td>5.816388</td>\n",
       "      <td>5.816388</td>\n",
       "    </tr>\n",
       "  </tbody>\n",
       "</table>\n",
       "</div>"
      ]
     },
     "execution_count": 38,
     "metadata": {},
     "output_type": "execute_result"
    }
   ],
   "execution_count": 38
  },
  {
   "metadata": {
    "ExecuteTime": {
     "end_time": "2025-09-09T17:35:30.068870Z",
     "start_time": "2025-09-09T17:35:30.017868Z"
    }
   },
   "cell_type": "code",
   "source": [
    "trip_csv = Root_dir / \"reports\" / \"tables\" / \"outlier_trip_distance.csv\"\n",
    "odf = pd.read_csv(trip_csv)\n",
    "row = odf[(odf[\"feature\"]==\"trip_distance\") & (odf[\"method\"]==\"logIQR_k1.5\")]\n",
    "upper_fence = float(row[\"upper_fence\"].iloc[0])\n",
    "lower_fence = 0.0  # physics override\n",
    "\n",
    "policy_entry = {\n",
    "    \"method\": \"logIQR_k1.5\",\n",
    "    \"lower_fence\": lower_fence,\n",
    "    \"upper_fence\": upper_fence,\n",
    "    \"action\": \"flag_only\",\n",
    "    \"notes\": \"Linear IQR too strict; z-score too wide. Log-IQR balances tail.\",\n",
    "    \"computed_on\": \"2023-01\"\n",
    "}\n",
    "\n",
    "cfg_path = Root_dir / \"configs\" / \"outlier_policies.json\"\n",
    "cfg_path.parent.mkdir(parents=True, exist_ok=True)\n",
    "\n",
    "# 3) merge/append by feature name\n",
    "if cfg_path.exists():\n",
    "    with open(cfg_path, \"r\") as f:\n",
    "        cfg = json.load(f)\n",
    "    if not isinstance(cfg, dict):\n",
    "        cfg = {}\n",
    "else:\n",
    "    cfg = {}\n",
    "\n",
    "cfg.setdefault(\"policies\", {})\n",
    "cfg[\"policies\"][\"trip_distance\"] = policy_entry\n",
    "\n",
    "with open(cfg_path, \"w\") as f:\n",
    "    json.dump(cfg, f, indent=2)\n",
    "\n",
    "# 4) (optional) create a flag column in df (no dropping)\n",
    "if \"df\" not in globals():\n",
    "    DATA_PATH = Root_dir / \"data\" / \"raw\" / \"tlc\" / \"yellow\" / \"2023\" / \"yellow_tripdata_2023-01.parquet\"\n",
    "    df = pd.read_parquet(DATA_PATH)\n",
    "\n",
    "flag_col = \"trip_distance_outlier\"\n",
    "df[flag_col] = (df[\"trip_distance\"] < lower_fence) | (df[\"trip_distance\"] > upper_fence)\n",
    "\n",
    "print(f\"✓ Saved policy → {cfg_path}\")\n",
    "print(f\"Upper fence = {upper_fence:.3f} mi | Lower fence = {lower_fence:.3f} mi\")\n",
    "print(f\"Flagged {df[flag_col].sum():,} rows ({100*df[flag_col].mean():.3f}% of all rows) as trip_distance outliers (flag-only).\")"
   ],
   "id": "9e0b9ed7c9f7a714",
   "outputs": [
    {
     "name": "stdout",
     "output_type": "stream",
     "text": [
      "✓ Saved policy → D:\\Portfolio\\eda-portfolio\\configs\\outlier_policies.json\n",
      "Upper fence = 12.195 mi | Lower fence = 0.000 mi\n",
      "Flagged 178,375 rows (5.816% of all rows) as trip_distance outliers (flag-only).\n"
     ]
    }
   ],
   "execution_count": 43
  },
  {
   "metadata": {
    "ExecuteTime": {
     "end_time": "2025-09-09T18:49:46.543644Z",
     "start_time": "2025-09-09T18:49:44.215640Z"
    }
   },
   "cell_type": "code",
   "source": [
    "Root_dir = globals().get(\"Root_dir\", Path.cwd().parent)\n",
    "if \"df\" not in globals():\n",
    "    DATA_PATH = Root_dir / \"data\" / \"raw\" / \"tlc\" / \"yellow\" / \"2023\" / \"yellow_tripdata_2023-01.parquet\"\n",
    "    df = pd.read_parquet(DATA_PATH)\n",
    "    print(f\"Loaded {DATA_PATH.name} → shape={df.shape}\")\n",
    "\n",
    "# 1) choose numeric columns, excluding ID-like codes (not true measurements)\n",
    "numeric_all = df.select_dtypes(include=[np.number]).columns.tolist()\n",
    "exclude_ids = [c for c in [\"VendorID\",\"RatecodeID\",\"PULocationID\",\"DOLocationID\",\"payment_type\",\"trip_type\"] if c in df.columns]\n",
    "cols = [c for c in numeric_all if c not in exclude_ids]\n",
    "assert len(cols) > 0, \"No numeric columns selected.\"\n",
    "\n",
    "# 2) compute Pearson correlation\n",
    "corr = df[cols].corr(method=\"pearson\", min_periods=1)\n",
    "\n",
    "# 3) save full matrix to CSV\n",
    "corr_csv = Root_dir / \"reports\" / \"tables\" / \"corr_pearson.csv\"\n",
    "corr_csv.parent.mkdir(parents=True, exist_ok=True)\n",
    "corr.to_csv(corr_csv, index=True)\n",
    "print(f\"✓ Saved Pearson correlation matrix → {corr_csv}  |  shape={corr.shape}\")\n",
    "\n",
    "# 4) simple heatmap (lower triangle) with Matplotlib\n",
    "vals = corr.values\n",
    "mask_upper = np.triu(np.ones_like(vals, dtype=bool), k=1)\n",
    "vals_masked = np.ma.masked_where(mask_upper | ~np.isfinite(vals), vals)  # mask upper & NaNs\n",
    "\n",
    "n = len(cols)\n",
    "figsize = (max(8, 0.5*n), max(8, 0.5*n))\n",
    "\n",
    "plt.figure(figsize=figsize)\n",
    "im = plt.imshow(vals_masked, vmin=-1, vmax=1)\n",
    "plt.colorbar(im, fraction=0.046, pad=0.04)\n",
    "plt.title(\"Pearson Correlation (Jan 2023)\")\n",
    "plt.xticks(range(n), cols, rotation=90)\n",
    "plt.yticks(range(n), cols)\n",
    "plt.tight_layout()\n",
    "\n",
    "corr_png = Root_dir / \"reports\" / \"figures\" / \"corr_pearson.png\"\n",
    "corr_png.parent.mkdir(parents=True, exist_ok=True)\n",
    "plt.savefig(corr_png, dpi=140)\n",
    "plt.show()\n",
    "\n",
    "print(f\"✓ Saved heatmap → {corr_png}\")"
   ],
   "id": "439b8e45dea4769d",
   "outputs": [
    {
     "name": "stdout",
     "output_type": "stream",
     "text": [
      "✓ Saved Pearson correlation matrix → D:\\Portfolio\\eda-portfolio\\reports\\tables\\corr_pearson.csv  |  shape=(11, 11)\n"
     ]
    },
    {
     "data": {
      "text/plain": [
       "<Figure size 800x800 with 2 Axes>"
      ],
      "image/png": "[encoded data removed]"
     },
     "metadata": {},
     "output_type": "display_data",
     "jetTransient": {
      "display_id": null
     }
    },
    {
     "name": "stdout",
     "output_type": "stream",
     "text": [
      "✓ Saved heatmap → D:\\Portfolio\\eda-portfolio\\reports\\figures\\corr_pearson.png\n"
     ]
    }
   ],
   "execution_count": 44
  },
  {
   "metadata": {},
   "cell_type": "code",
   "outputs": [],
   "execution_count": null,
   "source": "",
   "id": "6f3438010a37ad28"
  }
 ],
 "metadata": {
  "kernelspec": {
   "display_name": "Python 3",
   "language": "python",
   "name": "python3"
  },
  "language_info": {
   "codemirror_mode": {
    "name": "ipython",
    "version": 2
   },
   "file_extension": ".py",
   "mimetype": "text/x-python",
   "name": "python",
   "nbconvert_exporter": "python",
   "pygments_lexer": "ipython2",
   "version": "2.7.6"
  }
 },
 "nbformat": 4,
 "nbformat_minor": 5
}
