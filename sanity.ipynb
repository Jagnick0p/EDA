{
 "cells": [
  {
   "cell_type": "code",
   "id": "initial_id",
   "metadata": {
    "collapsed": true,
    "ExecuteTime": {
     "end_time": "2025-09-01T16:11:41.869109Z",
     "start_time": "2025-09-01T16:11:40.637470Z"
    }
   },
   "source": [
    "import pandas as pd, pyarrow.parquet as pq, os\n",
    "\n",
    "assert os.path.exists(\"data/raw/tlc/yellow/2023/yellow_tripdata_2023-01.parquet\")\n",
    "assert os.path.exists(\"data/raw/tlc/misc/taxi_zone_lookup.csv\")\n",
    "\n",
    "df = pd.read_parquet(\"data/raw/tlc/yellow/2023/yellow_tripdata_2023-01.parquet\")\n",
    "print(df.shape)                 # expect ~hundreds of thousands+ rows, dozens of cols\n",
    "print(sorted([c for c in df.columns if 'LocationID' in c]))\n",
    "\n",
    "zones = pd.read_csv(\"data/raw/tlc/misc/taxi_zone_lookup.csv\")\n",
    "print(zones.head().to_string(index=False))\n",
    "\n",
    "# quick join check: map pickup zone id -> zone name (no save yet)\n",
    "mapped = df[['PULocationID']].merge(zones.rename(columns={'LocationID':'PULocationID'}), on='PULocationID', how='left')\n",
    "print(mapped.head().to_string(index=False))\n"
   ],
   "outputs": [
    {
     "name": "stdout",
     "output_type": "stream",
     "text": [
      "(3066766, 19)\n",
      "['DOLocationID', 'PULocationID']\n",
      " LocationID       Borough                    Zone service_zone\n",
      "          1           EWR          Newark Airport          EWR\n",
      "          2        Queens             Jamaica Bay    Boro Zone\n",
      "          3         Bronx Allerton/Pelham Gardens    Boro Zone\n",
      "          4     Manhattan           Alphabet City  Yellow Zone\n",
      "          5 Staten Island           Arden Heights    Boro Zone\n",
      " PULocationID   Borough              Zone service_zone\n",
      "          161 Manhattan    Midtown Center  Yellow Zone\n",
      "           43 Manhattan      Central Park  Yellow Zone\n",
      "           48 Manhattan      Clinton East  Yellow Zone\n",
      "          138    Queens LaGuardia Airport     Airports\n",
      "          107 Manhattan          Gramercy  Yellow Zone\n"
     ]
    }
   ],
   "execution_count": 1
  },
  {
   "metadata": {},
   "cell_type": "code",
   "outputs": [],
   "execution_count": null,
   "source": "",
   "id": "f8652850d289ec2c"
  }
 ],
 "metadata": {
  "kernelspec": {
   "display_name": "Python 3",
   "language": "python",
   "name": "python3"
  },
  "language_info": {
   "codemirror_mode": {
    "name": "ipython",
    "version": 2
   },
   "file_extension": ".py",
   "mimetype": "text/x-python",
   "name": "python",
   "nbconvert_exporter": "python",
   "pygments_lexer": "ipython2",
   "version": "2.7.6"
  }
 },
 "nbformat": 4,
 "nbformat_minor": 5
}
